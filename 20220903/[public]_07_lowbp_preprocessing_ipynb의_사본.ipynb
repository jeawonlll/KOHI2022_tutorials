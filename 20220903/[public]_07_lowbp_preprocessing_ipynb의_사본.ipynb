{
  "cells": [
    {
      "cell_type": "markdown",
      "metadata": {
        "id": "view-in-github",
        "colab_type": "text"
      },
      "source": [
        "<a href=\"https://colab.research.google.com/github/jeawonlll/KOHI2022_tutorials/blob/main/20220903/%5Bpublic%5D_07_lowbp_preprocessing_ipynb%EC%9D%98_%EC%82%AC%EB%B3%B8.ipynb\" target=\"_parent\"><img src=\"https://colab.research.google.com/assets/colab-badge.svg\" alt=\"Open In Colab\"/></a>"
      ]
    },
    {
      "cell_type": "markdown",
      "metadata": {
        "tags": [],
        "id": "36M-VO3kmAQI"
      },
      "source": [
        "# 의료인공지능 전문가 양성과정 2022\n",
        "## VitalDB Tutorial <br> Low blood pressure prediction using arterial wave - preprocessing\n",
        "- Date : Sep. 03, 2022\n",
        "- Author : **Hyun-Lim Yang, Ph.D.**<br>\n",
        "Research Assistant Professor @\n",
        "Seoul National University Hospital <br>\n",
        "Department of Anesthesiology and Pain Medicine\n",
        "- E-mail : hlyang{_at_}snu{_dot_}ac{_dot_}kr\n",
        "***"
      ]
    },
    {
      "cell_type": "code",
      "execution_count": null,
      "metadata": {
        "colab": {
          "base_uri": "https://localhost:8080/",
          "height": 17
        },
        "id": "jxT6T97BAb1G",
        "outputId": "be9abab5-b271-42b1-88d9-655b9abf16f5"
      },
      "outputs": [
        {
          "output_type": "execute_result",
          "data": {
            "text/plain": [
              "<IPython.core.display.HTML object>"
            ],
            "text/html": [
              "<style>div.warn { background-color: #fcf2f2;border-color: #dFb5b4; border-left: 5px solid #dfb5b4; padding: 0.5em;}</style>"
            ]
          },
          "metadata": {},
          "execution_count": 1
        }
      ],
      "source": [
        "from IPython.display import HTML\n",
        "style_warn = \"<style>div.warn { background-color: #fcf2f2;border-color: #dFb5b4; border-left: 5px solid #dfb5b4; padding: 0.5em;}</style>\"\n",
        "HTML(style_warn)"
      ]
    },
    {
      "cell_type": "markdown",
      "metadata": {
        "id": "dhpoIAxnAb1M"
      },
      "source": [
        "### Import packages"
      ]
    },
    {
      "cell_type": "markdown",
      "metadata": {
        "id": "p9PYd5m4Ab1O"
      },
      "source": [
        "<div class=\"warn\">**Warning!** : use your directory at `download_directory`</div>\n"
      ]
    },
    {
      "cell_type": "markdown",
      "metadata": {
        "id": "wq_pFlM6Ab1P"
      },
      "source": [
        "> **Wargning** <br>\n",
        "> colab 환경을 위한 google drive import 코드가 포함되어 있습니다. <br>\n",
        "> 로컬 환경에서 실행 시 colab을 위한 import function들을 comment out 한 뒤 실행하세요. "
      ]
    },
    {
      "cell_type": "code",
      "execution_count": null,
      "metadata": {
        "id": "PFbwPnUlmAQN",
        "colab": {
          "base_uri": "https://localhost:8080/"
        },
        "outputId": "4d141b33-097e-420c-d2f4-6ff19e7f3868"
      },
      "outputs": [
        {
          "output_type": "stream",
          "name": "stdout",
          "text": [
            "Looking in indexes: https://pypi.org/simple, https://us-python.pkg.dev/colab-wheels/public/simple/\n",
            "Collecting vitaldb\n",
            "  Downloading vitaldb-1.2.3-py3-none-any.whl (51 kB)\n",
            "\u001b[K     |████████████████████████████████| 51 kB 353 kB/s \n",
            "\u001b[?25hRequirement already satisfied: pandas in /usr/local/lib/python3.7/dist-packages (from vitaldb) (1.3.5)\n",
            "Collecting wfdb\n",
            "  Downloading wfdb-4.0.0-py3-none-any.whl (161 kB)\n",
            "\u001b[K     |████████████████████████████████| 161 kB 49.4 MB/s \n",
            "\u001b[?25hRequirement already satisfied: requests in /usr/local/lib/python3.7/dist-packages (from vitaldb) (2.23.0)\n",
            "Collecting s3fs\n",
            "  Downloading s3fs-2022.8.2-py3-none-any.whl (27 kB)\n",
            "Requirement already satisfied: numpy in /usr/local/lib/python3.7/dist-packages (from vitaldb) (1.21.6)\n",
            "Requirement already satisfied: pyarrow in /usr/local/lib/python3.7/dist-packages (from vitaldb) (6.0.1)\n",
            "Requirement already satisfied: pytz>=2017.3 in /usr/local/lib/python3.7/dist-packages (from pandas->vitaldb) (2022.2.1)\n",
            "Requirement already satisfied: python-dateutil>=2.7.3 in /usr/local/lib/python3.7/dist-packages (from pandas->vitaldb) (2.8.2)\n",
            "Requirement already satisfied: six>=1.5 in /usr/local/lib/python3.7/dist-packages (from python-dateutil>=2.7.3->pandas->vitaldb) (1.15.0)\n",
            "Requirement already satisfied: chardet<4,>=3.0.2 in /usr/local/lib/python3.7/dist-packages (from requests->vitaldb) (3.0.4)\n",
            "Requirement already satisfied: urllib3!=1.25.0,!=1.25.1,<1.26,>=1.21.1 in /usr/local/lib/python3.7/dist-packages (from requests->vitaldb) (1.24.3)\n",
            "Requirement already satisfied: certifi>=2017.4.17 in /usr/local/lib/python3.7/dist-packages (from requests->vitaldb) (2022.6.15)\n",
            "Requirement already satisfied: idna<3,>=2.5 in /usr/local/lib/python3.7/dist-packages (from requests->vitaldb) (2.10)\n",
            "Collecting aiobotocore~=2.4.0\n",
            "  Downloading aiobotocore-2.4.0-py3-none-any.whl (65 kB)\n",
            "\u001b[K     |████████████████████████████████| 65 kB 2.3 MB/s \n",
            "\u001b[?25hRequirement already satisfied: aiohttp!=4.0.0a0,!=4.0.0a1 in /usr/local/lib/python3.7/dist-packages (from s3fs->vitaldb) (3.8.1)\n",
            "Collecting fsspec==2022.8.2\n",
            "  Downloading fsspec-2022.8.2-py3-none-any.whl (140 kB)\n",
            "\u001b[K     |████████████████████████████████| 140 kB 52.3 MB/s \n",
            "\u001b[?25hCollecting botocore<1.27.60,>=1.27.59\n",
            "  Downloading botocore-1.27.59-py3-none-any.whl (9.1 MB)\n",
            "\u001b[K     |████████████████████████████████| 9.1 MB 39.1 MB/s \n",
            "\u001b[?25hCollecting aioitertools>=0.5.1\n",
            "  Downloading aioitertools-0.10.0-py3-none-any.whl (23 kB)\n",
            "Requirement already satisfied: wrapt>=1.10.10 in /usr/local/lib/python3.7/dist-packages (from aiobotocore~=2.4.0->s3fs->vitaldb) (1.14.1)\n",
            "Requirement already satisfied: yarl<2.0,>=1.0 in /usr/local/lib/python3.7/dist-packages (from aiohttp!=4.0.0a0,!=4.0.0a1->s3fs->vitaldb) (1.8.1)\n",
            "Requirement already satisfied: frozenlist>=1.1.1 in /usr/local/lib/python3.7/dist-packages (from aiohttp!=4.0.0a0,!=4.0.0a1->s3fs->vitaldb) (1.3.1)\n",
            "Requirement already satisfied: multidict<7.0,>=4.5 in /usr/local/lib/python3.7/dist-packages (from aiohttp!=4.0.0a0,!=4.0.0a1->s3fs->vitaldb) (6.0.2)\n",
            "Requirement already satisfied: attrs>=17.3.0 in /usr/local/lib/python3.7/dist-packages (from aiohttp!=4.0.0a0,!=4.0.0a1->s3fs->vitaldb) (22.1.0)\n",
            "Requirement already satisfied: asynctest==0.13.0 in /usr/local/lib/python3.7/dist-packages (from aiohttp!=4.0.0a0,!=4.0.0a1->s3fs->vitaldb) (0.13.0)\n",
            "Requirement already satisfied: typing-extensions>=3.7.4 in /usr/local/lib/python3.7/dist-packages (from aiohttp!=4.0.0a0,!=4.0.0a1->s3fs->vitaldb) (4.1.1)\n",
            "Requirement already satisfied: aiosignal>=1.1.2 in /usr/local/lib/python3.7/dist-packages (from aiohttp!=4.0.0a0,!=4.0.0a1->s3fs->vitaldb) (1.2.0)\n",
            "Requirement already satisfied: async-timeout<5.0,>=4.0.0a3 in /usr/local/lib/python3.7/dist-packages (from aiohttp!=4.0.0a0,!=4.0.0a1->s3fs->vitaldb) (4.0.2)\n",
            "Requirement already satisfied: charset-normalizer<3.0,>=2.0 in /usr/local/lib/python3.7/dist-packages (from aiohttp!=4.0.0a0,!=4.0.0a1->s3fs->vitaldb) (2.1.1)\n",
            "Collecting urllib3!=1.25.0,!=1.25.1,<1.26,>=1.21.1\n",
            "  Downloading urllib3-1.25.11-py2.py3-none-any.whl (127 kB)\n",
            "\u001b[K     |████████████████████████████████| 127 kB 58.1 MB/s \n",
            "\u001b[?25hCollecting jmespath<2.0.0,>=0.7.1\n",
            "  Downloading jmespath-1.0.1-py3-none-any.whl (20 kB)\n",
            "Requirement already satisfied: matplotlib<4.0.0,>=3.2.2 in /usr/local/lib/python3.7/dist-packages (from wfdb->vitaldb) (3.2.2)\n",
            "Requirement already satisfied: scipy<2.0.0,>=1.0.0 in /usr/local/lib/python3.7/dist-packages (from wfdb->vitaldb) (1.7.3)\n",
            "Requirement already satisfied: SoundFile<0.12.0,>=0.10.0 in /usr/local/lib/python3.7/dist-packages (from wfdb->vitaldb) (0.10.3.post1)\n",
            "Requirement already satisfied: pyparsing!=2.0.4,!=2.1.2,!=2.1.6,>=2.0.1 in /usr/local/lib/python3.7/dist-packages (from matplotlib<4.0.0,>=3.2.2->wfdb->vitaldb) (3.0.9)\n",
            "Requirement already satisfied: kiwisolver>=1.0.1 in /usr/local/lib/python3.7/dist-packages (from matplotlib<4.0.0,>=3.2.2->wfdb->vitaldb) (1.4.4)\n",
            "Requirement already satisfied: cycler>=0.10 in /usr/local/lib/python3.7/dist-packages (from matplotlib<4.0.0,>=3.2.2->wfdb->vitaldb) (0.11.0)\n",
            "Requirement already satisfied: cffi>=1.0 in /usr/local/lib/python3.7/dist-packages (from SoundFile<0.12.0,>=0.10.0->wfdb->vitaldb) (1.15.1)\n",
            "Requirement already satisfied: pycparser in /usr/local/lib/python3.7/dist-packages (from cffi>=1.0->SoundFile<0.12.0,>=0.10.0->wfdb->vitaldb) (2.21)\n",
            "Installing collected packages: urllib3, jmespath, botocore, aioitertools, fsspec, aiobotocore, wfdb, s3fs, vitaldb\n",
            "  Attempting uninstall: urllib3\n",
            "    Found existing installation: urllib3 1.24.3\n",
            "    Uninstalling urllib3-1.24.3:\n",
            "      Successfully uninstalled urllib3-1.24.3\n",
            "  Attempting uninstall: fsspec\n",
            "    Found existing installation: fsspec 2022.7.1\n",
            "    Uninstalling fsspec-2022.7.1:\n",
            "      Successfully uninstalled fsspec-2022.7.1\n",
            "Successfully installed aiobotocore-2.4.0 aioitertools-0.10.0 botocore-1.27.59 fsspec-2022.8.2 jmespath-1.0.1 s3fs-2022.8.2 urllib3-1.25.11 vitaldb-1.2.3 wfdb-4.0.0\n"
          ]
        }
      ],
      "source": [
        "!pip install vitaldb"
      ]
    },
    {
      "cell_type": "code",
      "execution_count": null,
      "metadata": {
        "id": "sskzigdtmAQN",
        "colab": {
          "base_uri": "https://localhost:8080/"
        },
        "outputId": "276cfa7b-8d45-41ae-f417-2cd735de6f00"
      },
      "outputs": [
        {
          "output_type": "stream",
          "name": "stdout",
          "text": [
            "Mounted at /content/gdrive/\n"
          ]
        }
      ],
      "source": [
        "from google.colab import drive  # for colab\n",
        "drive.mount('/content/gdrive/')  # for colab"
      ]
    },
    {
      "cell_type": "code",
      "execution_count": null,
      "metadata": {
        "id": "197mX94DmAQO",
        "colab": {
          "base_uri": "https://localhost:8080/"
        },
        "outputId": "a0a3832f-d426-4613-eef8-1cb56d18ae62"
      },
      "outputs": [
        {
          "output_type": "execute_result",
          "data": {
            "text/plain": [
              "['sample_csv',\n",
              " 'datasets',\n",
              " '__init__.py',\n",
              " '__pycache__',\n",
              " 'kohi_CNN_model_archi.png',\n",
              " 'kohi_preprocessor.py']"
            ]
          },
          "metadata": {},
          "execution_count": 5
        }
      ],
      "source": [
        "import os\n",
        "cloud_directory = '/content/gdrive/MyDrive/KOHI_2022_CNN_data_open/'\n",
        "os.listdir(cloud_directory) # for colab, check cloud directory mount"
      ]
    },
    {
      "cell_type": "code",
      "execution_count": null,
      "metadata": {
        "id": "9eZwOhoKmAQO"
      },
      "outputs": [],
      "source": [
        "import sys\n",
        "#download_directory = os.getcwd() # for local environments\n",
        "#sys.path.append(download_directory) # for local environments\n",
        "sys.path.append(cloud_directory) # for colab"
      ]
    },
    {
      "cell_type": "code",
      "execution_count": null,
      "metadata": {
        "id": "RuNp5y2-Ab1X"
      },
      "outputs": [],
      "source": [
        "import os\n",
        "import sys\n",
        "# download_directory = os.getcwd() # for local environments\n",
        "# sys.path.append(download_directory) # for local environments"
      ]
    },
    {
      "cell_type": "code",
      "execution_count": null,
      "metadata": {
        "id": "TeCJ_u-ZAb1a"
      },
      "outputs": [],
      "source": [
        "import numpy as np\n",
        "import pandas as pd\n",
        "import glob\n",
        "import kohi_preprocessor as pre\n",
        "import vitaldb\n",
        "from tqdm import tqdm\n",
        "import warnings\n",
        "warnings.filterwarnings(action='ignore')\n",
        "\n",
        "download_directory = cloud_directory # for colab"
      ]
    },
    {
      "cell_type": "markdown",
      "metadata": {
        "id": "HVxAlNvkAb1h"
      },
      "source": [
        "### Data loading\n",
        "샘플 파일을 vitaldb 서버로 부터 직접 다운받아 로드"
      ]
    },
    {
      "cell_type": "markdown",
      "metadata": {
        "id": "UbGUZOqrAb1p"
      },
      "source": [
        "> **TODO:** `00010.vital`을 100hz로 변환하여 `chart_pd_01`에 DataFrame으로 저장하기"
      ]
    },
    {
      "cell_type": "code",
      "execution_count": null,
      "metadata": {
        "id": "8yiFyo7YAb1i"
      },
      "outputs": [],
      "source": [
        "track_names = [\"SNUADC/ART\", \"Solar8000/ART_MBP\"]\n",
        "### =========== Your code here ====================\n",
        "\n",
        "vitalfile = vitaldb.VitalFile(10, track_names=track_names)\n",
        "chart_pd_01 = vitalfile.to_pandas(track_names, interval=1/100)\n",
        "\n",
        "### ===============================================\n"
      ]
    },
    {
      "cell_type": "code",
      "execution_count": null,
      "metadata": {
        "id": "sFfkApvQmAQQ",
        "outputId": "24e19547-a071-465a-c6da-ec95190317a8",
        "colab": {
          "base_uri": "https://localhost:8080/",
          "height": 424
        }
      },
      "outputs": [
        {
          "output_type": "execute_result",
          "data": {
            "text/plain": [
              "         SNUADC/ART  Solar8000/ART_MBP\n",
              "0               NaN                NaN\n",
              "1               NaN                NaN\n",
              "2               NaN                NaN\n",
              "3               NaN                NaN\n",
              "4               NaN                NaN\n",
              "...             ...                ...\n",
              "2099215         NaN                NaN\n",
              "2099216         NaN                NaN\n",
              "2099217         NaN                NaN\n",
              "2099218         NaN                NaN\n",
              "2099219         NaN                NaN\n",
              "\n",
              "[2099220 rows x 2 columns]"
            ],
            "text/html": [
              "\n",
              "  <div id=\"df-6be3f039-acf8-4b89-958c-14f34beadd1f\">\n",
              "    <div class=\"colab-df-container\">\n",
              "      <div>\n",
              "<style scoped>\n",
              "    .dataframe tbody tr th:only-of-type {\n",
              "        vertical-align: middle;\n",
              "    }\n",
              "\n",
              "    .dataframe tbody tr th {\n",
              "        vertical-align: top;\n",
              "    }\n",
              "\n",
              "    .dataframe thead th {\n",
              "        text-align: right;\n",
              "    }\n",
              "</style>\n",
              "<table border=\"1\" class=\"dataframe\">\n",
              "  <thead>\n",
              "    <tr style=\"text-align: right;\">\n",
              "      <th></th>\n",
              "      <th>SNUADC/ART</th>\n",
              "      <th>Solar8000/ART_MBP</th>\n",
              "    </tr>\n",
              "  </thead>\n",
              "  <tbody>\n",
              "    <tr>\n",
              "      <th>0</th>\n",
              "      <td>NaN</td>\n",
              "      <td>NaN</td>\n",
              "    </tr>\n",
              "    <tr>\n",
              "      <th>1</th>\n",
              "      <td>NaN</td>\n",
              "      <td>NaN</td>\n",
              "    </tr>\n",
              "    <tr>\n",
              "      <th>2</th>\n",
              "      <td>NaN</td>\n",
              "      <td>NaN</td>\n",
              "    </tr>\n",
              "    <tr>\n",
              "      <th>3</th>\n",
              "      <td>NaN</td>\n",
              "      <td>NaN</td>\n",
              "    </tr>\n",
              "    <tr>\n",
              "      <th>4</th>\n",
              "      <td>NaN</td>\n",
              "      <td>NaN</td>\n",
              "    </tr>\n",
              "    <tr>\n",
              "      <th>...</th>\n",
              "      <td>...</td>\n",
              "      <td>...</td>\n",
              "    </tr>\n",
              "    <tr>\n",
              "      <th>2099215</th>\n",
              "      <td>NaN</td>\n",
              "      <td>NaN</td>\n",
              "    </tr>\n",
              "    <tr>\n",
              "      <th>2099216</th>\n",
              "      <td>NaN</td>\n",
              "      <td>NaN</td>\n",
              "    </tr>\n",
              "    <tr>\n",
              "      <th>2099217</th>\n",
              "      <td>NaN</td>\n",
              "      <td>NaN</td>\n",
              "    </tr>\n",
              "    <tr>\n",
              "      <th>2099218</th>\n",
              "      <td>NaN</td>\n",
              "      <td>NaN</td>\n",
              "    </tr>\n",
              "    <tr>\n",
              "      <th>2099219</th>\n",
              "      <td>NaN</td>\n",
              "      <td>NaN</td>\n",
              "    </tr>\n",
              "  </tbody>\n",
              "</table>\n",
              "<p>2099220 rows × 2 columns</p>\n",
              "</div>\n",
              "      <button class=\"colab-df-convert\" onclick=\"convertToInteractive('df-6be3f039-acf8-4b89-958c-14f34beadd1f')\"\n",
              "              title=\"Convert this dataframe to an interactive table.\"\n",
              "              style=\"display:none;\">\n",
              "        \n",
              "  <svg xmlns=\"http://www.w3.org/2000/svg\" height=\"24px\"viewBox=\"0 0 24 24\"\n",
              "       width=\"24px\">\n",
              "    <path d=\"M0 0h24v24H0V0z\" fill=\"none\"/>\n",
              "    <path d=\"M18.56 5.44l.94 2.06.94-2.06 2.06-.94-2.06-.94-.94-2.06-.94 2.06-2.06.94zm-11 1L8.5 8.5l.94-2.06 2.06-.94-2.06-.94L8.5 2.5l-.94 2.06-2.06.94zm10 10l.94 2.06.94-2.06 2.06-.94-2.06-.94-.94-2.06-.94 2.06-2.06.94z\"/><path d=\"M17.41 7.96l-1.37-1.37c-.4-.4-.92-.59-1.43-.59-.52 0-1.04.2-1.43.59L10.3 9.45l-7.72 7.72c-.78.78-.78 2.05 0 2.83L4 21.41c.39.39.9.59 1.41.59.51 0 1.02-.2 1.41-.59l7.78-7.78 2.81-2.81c.8-.78.8-2.07 0-2.86zM5.41 20L4 18.59l7.72-7.72 1.47 1.35L5.41 20z\"/>\n",
              "  </svg>\n",
              "      </button>\n",
              "      \n",
              "  <style>\n",
              "    .colab-df-container {\n",
              "      display:flex;\n",
              "      flex-wrap:wrap;\n",
              "      gap: 12px;\n",
              "    }\n",
              "\n",
              "    .colab-df-convert {\n",
              "      background-color: #E8F0FE;\n",
              "      border: none;\n",
              "      border-radius: 50%;\n",
              "      cursor: pointer;\n",
              "      display: none;\n",
              "      fill: #1967D2;\n",
              "      height: 32px;\n",
              "      padding: 0 0 0 0;\n",
              "      width: 32px;\n",
              "    }\n",
              "\n",
              "    .colab-df-convert:hover {\n",
              "      background-color: #E2EBFA;\n",
              "      box-shadow: 0px 1px 2px rgba(60, 64, 67, 0.3), 0px 1px 3px 1px rgba(60, 64, 67, 0.15);\n",
              "      fill: #174EA6;\n",
              "    }\n",
              "\n",
              "    [theme=dark] .colab-df-convert {\n",
              "      background-color: #3B4455;\n",
              "      fill: #D2E3FC;\n",
              "    }\n",
              "\n",
              "    [theme=dark] .colab-df-convert:hover {\n",
              "      background-color: #434B5C;\n",
              "      box-shadow: 0px 1px 3px 1px rgba(0, 0, 0, 0.15);\n",
              "      filter: drop-shadow(0px 1px 2px rgba(0, 0, 0, 0.3));\n",
              "      fill: #FFFFFF;\n",
              "    }\n",
              "  </style>\n",
              "\n",
              "      <script>\n",
              "        const buttonEl =\n",
              "          document.querySelector('#df-6be3f039-acf8-4b89-958c-14f34beadd1f button.colab-df-convert');\n",
              "        buttonEl.style.display =\n",
              "          google.colab.kernel.accessAllowed ? 'block' : 'none';\n",
              "\n",
              "        async function convertToInteractive(key) {\n",
              "          const element = document.querySelector('#df-6be3f039-acf8-4b89-958c-14f34beadd1f');\n",
              "          const dataTable =\n",
              "            await google.colab.kernel.invokeFunction('convertToInteractive',\n",
              "                                                     [key], {});\n",
              "          if (!dataTable) return;\n",
              "\n",
              "          const docLinkHtml = 'Like what you see? Visit the ' +\n",
              "            '<a target=\"_blank\" href=https://colab.research.google.com/notebooks/data_table.ipynb>data table notebook</a>'\n",
              "            + ' to learn more about interactive tables.';\n",
              "          element.innerHTML = '';\n",
              "          dataTable['output_type'] = 'display_data';\n",
              "          await google.colab.output.renderOutput(dataTable, element);\n",
              "          const docLink = document.createElement('div');\n",
              "          docLink.innerHTML = docLinkHtml;\n",
              "          element.appendChild(docLink);\n",
              "        }\n",
              "      </script>\n",
              "    </div>\n",
              "  </div>\n",
              "  "
            ]
          },
          "metadata": {},
          "execution_count": 10
        }
      ],
      "source": [
        "chart_pd_01"
      ]
    },
    {
      "cell_type": "code",
      "execution_count": null,
      "metadata": {
        "id": "yrQds6dKAb1s"
      },
      "outputs": [],
      "source": [
        "col_mbp = 'Solar8000/ART_MBP'\n",
        "col_art = 'SNUADC/ART'"
      ]
    },
    {
      "cell_type": "markdown",
      "metadata": {
        "id": "cBcUECUdAb1z"
      },
      "source": [
        "### mean blood pressure 데이터 추출\n",
        "> **TODO:** ART_MBP 변수들 중 값이 존재하는 것만 별도의 변수 `mbp_data_pd`에 저장"
      ]
    },
    {
      "cell_type": "code",
      "execution_count": null,
      "metadata": {
        "colab": {
          "base_uri": "https://localhost:8080/"
        },
        "id": "LoYvclY8Ab10",
        "outputId": "5ba72f73-ed89-445e-f733-53682ed3321e"
      },
      "outputs": [
        {
          "output_type": "stream",
          "name": "stdout",
          "text": [
            "708      -20.0\n",
            "899      -20.0\n",
            "1099     -20.0\n",
            "1299     -20.0\n",
            "1499     -20.0\n",
            "          ... \n",
            "199705    54.0\n",
            "199905    54.0\n",
            "200105    54.0\n",
            "200305    54.0\n",
            "200505    54.0\n",
            "Name: Solar8000/ART_MBP, Length: 1000, dtype: float32\n"
          ]
        }
      ],
      "source": [
        "# mbp 데이터 추출\n",
        "### =========== Your code here ====================\n",
        "\n",
        "mbp_data_pd = chart_pd_01[col_mbp][chart_pd_01[col_mbp].notnull()]\n",
        "#대략 200초마다 계산되므로 \n",
        "\n",
        "### ===============================================\n",
        "\n",
        "mbp_index = mbp_data_pd.index.values\n",
        "print(mbp_data_pd.head(1000))\n",
        "#데이터 제대로 connection 안되어있어서 뒤에서 처리해야함."
      ]
    },
    {
      "cell_type": "markdown",
      "metadata": {
        "id": "vSF_ry_wAb13"
      },
      "source": [
        "### arterial wave 데이터 추출 및 nan 지우기\n",
        "> **TODO:** ART 변수들 중 값이 존재하지 않는 모든 부분을 0으로 채운 뒤 `art_full_pd`에 저장"
      ]
    },
    {
      "cell_type": "code",
      "execution_count": null,
      "metadata": {
        "colab": {
          "base_uri": "https://localhost:8080/"
        },
        "id": "zUnaZqqwAb13",
        "outputId": "60d30ec9-a11d-429f-ef39-18503957b438"
      },
      "outputs": [
        {
          "output_type": "stream",
          "name": "stdout",
          "text": [
            "0       0.000000\n",
            "1       0.000000\n",
            "2       0.000000\n",
            "3       0.000000\n",
            "4       0.000000\n",
            "         ...    \n",
            "995   -17.696800\n",
            "996   -18.684299\n",
            "997   -18.684299\n",
            "998   -17.696800\n",
            "999   -18.684299\n",
            "Name: SNUADC/ART, Length: 1000, dtype: float32\n"
          ]
        }
      ],
      "source": [
        "# art 데이터 전체 추출 및 nan value 채우기\n",
        "art_full_pd = chart_pd_01[col_art]\n",
        "\n",
        "### =========== Your code here ====================\n",
        "\n",
        "art_full_pd = art_full_pd.fillna(0)\n",
        "\n",
        "### =========== Your code here ====================\n",
        "print(art_full_pd.head(1000))"
      ]
    },
    {
      "cell_type": "markdown",
      "metadata": {
        "id": "1S0xwEUeAb16"
      },
      "source": [
        "### 데이터셋 만들기\n",
        "필요한 파라미터들 정의"
      ]
    },
    {
      "cell_type": "code",
      "execution_count": null,
      "metadata": {
        "id": "JVFKRPiqAb17"
      },
      "outputs": [],
      "source": [
        "# 필요한 파라미터들 정의\n",
        "mdelay = 1 #1분뒤에 저혈압 예측\n",
        "srate = 100 #100hz\n",
        "length = 20 #20의 a라인 보고 bp볼거기때문에\n",
        "max_limit_mbp = 250 #단순하게 min,max 설정\n",
        "min_limit_mbp = 0"
      ]
    },
    {
      "cell_type": "markdown",
      "metadata": {
        "id": "zqBGX5XUmAQR"
      },
      "source": [
        "입력 데이터 길이가 20s이고 black out (여기서는 mdelay) 기간이 1분 이니, mbp가 1분 20초 이내에 등장하는 것은 무시함"
      ]
    },
    {
      "cell_type": "code",
      "execution_count": null,
      "metadata": {
        "colab": {
          "base_uri": "https://localhost:8080/"
        },
        "id": "tRCLaPraAb1-",
        "outputId": "ce93b983-5809-4ccc-a29b-54009e4ece2b"
      },
      "outputs": [
        {
          "output_type": "stream",
          "name": "stdout",
          "text": [
            "[   8100    8300    8500 ... 2092959 2093159 2093359]\n"
          ]
        }
      ],
      "source": [
        "# mbp index를 1분 20초 뒤로 미룸\n",
        "mbp_points = mbp_index[mbp_index > (mdelay*60*srate + length*srate)]\n",
        "print(mbp_points)"
      ]
    },
    {
      "cell_type": "markdown",
      "metadata": {
        "id": "UNTL3bHjAb2B"
      },
      "source": [
        "### Arterial wave segment 추출\n",
        "> **TODO:** 현재 mbp 값을 기준으로, 1분 20초 전 ~ 1분 전 데이터 (즉, 입력 데이터 20s)를 arterial wave segment로 추출하여 `art_seg_list`에 저장하기"
      ]
    },
    {
      "cell_type": "code",
      "execution_count": null,
      "metadata": {
        "id": "26VDlRR9Ab2B"
      },
      "outputs": [],
      "source": [
        "# 실습: arterial segment 추출하기\n",
        "mbp_values_list = [mbp_data_pd[idx] for idx in mbp_points]\n",
        "\n",
        "### =========== Your code here ====================\n",
        "\n",
        "#1:20초 전부터 1분까지\n",
        "art_seg_list = [art_full_pd[idx-(mdelay*60*srate) - (length*srate) : \n",
        "                            idx - (mdelay*60*srate)].values \n",
        "                for idx in mbp_points]\n",
        "### ==============================================="
      ]
    },
    {
      "cell_type": "code",
      "execution_count": null,
      "metadata": {
        "colab": {
          "base_uri": "https://localhost:8080/"
        },
        "id": "8gkmPxdBAb2E",
        "outputId": "19b28df9-6869-464d-8348-f01956f6bb7d"
      },
      "outputs": [
        {
          "output_type": "stream",
          "name": "stdout",
          "text": [
            "(10428,)\n",
            "(10428, 2000)\n"
          ]
        }
      ],
      "source": [
        "mbp_values_np = np.array(mbp_values_list)\n",
        "art_seg_np = np.array(art_seg_list)\n",
        "print(mbp_values_np.shape)\n",
        "print(art_seg_np.shape)"
      ]
    },
    {
      "cell_type": "markdown",
      "metadata": {
        "id": "lCiaLCYFAb2H"
      },
      "source": [
        "### 조건에 따라 filter들 정의"
      ]
    },
    {
      "cell_type": "code",
      "execution_count": null,
      "metadata": {
        "colab": {
          "base_uri": "https://localhost:8080/"
        },
        "id": "x2ZVi6beAb2I",
        "outputId": "aefb26fa-f35b-4c7a-9556-08572d632414"
      },
      "outputs": [
        {
          "output_type": "stream",
          "name": "stderr",
          "text": [
            "100%|██████████| 10428/10428 [02:03<00:00, 84.28it/s] \n"
          ]
        }
      ],
      "source": [
        "# 필터들 선언\n",
        "# mbp min-max filter\n",
        "mbp_max_filter = mbp_values_np < max_limit_mbp\n",
        "mbp_min_filter = mbp_values_np > min_limit_mbp\n",
        "mbp_filter = mbp_max_filter & mbp_min_filter\n",
        "\n",
        "# abp range filter\n",
        "art_filter_list = []\n",
        "for seg in art_seg_np:\n",
        "    filter_value = (np.array(seg) > 25.0).all() and (np.array(seg) < 250.0).all()\n",
        "    art_filter_list.append(filter_value)\n",
        "art_filter = np.array(art_filter_list)\n",
        "\n",
        "# mstds 필터\n",
        "mstds_values_list = []\n",
        "for seg in tqdm(art_seg_np):\n",
        "    if (np.array(seg) < 0.).any():\n",
        "        mstds_values_list.append(float(0.))\n",
        "    else:\n",
        "        mstd_val, _ = pre.process_beat(seg)\n",
        "        mstds_values_list.append(mstd_val)\n",
        "mstds_filter = np.array(mstds_values_list) > 0."
      ]
    },
    {
      "cell_type": "markdown",
      "metadata": {
        "id": "E9KPPXroAb2K"
      },
      "source": [
        "전체 필터 하나로 만들기"
      ]
    },
    {
      "cell_type": "code",
      "execution_count": null,
      "metadata": {
        "id": "FE1RNFpOAb2K"
      },
      "outputs": [],
      "source": [
        "all_filters = mbp_filter & art_filter & mstds_filter"
      ]
    },
    {
      "cell_type": "markdown",
      "metadata": {
        "id": "sBSViHTgAb2N"
      },
      "source": [
        "### 필터 적용하여 데이터 추출\n",
        "> **TODO:** `all_filters`를 이용하여 필터 통과한 데이터들만 추출해 `mbp_filtered`와 `art_filtered`에 저장"
      ]
    },
    {
      "cell_type": "code",
      "execution_count": null,
      "metadata": {
        "colab": {
          "base_uri": "https://localhost:8080/"
        },
        "id": "iA4ZCAxEAb2N",
        "outputId": "6817e1d3-5b5c-4648-a3c6-23dbd1219585"
      },
      "outputs": [
        {
          "output_type": "stream",
          "name": "stdout",
          "text": [
            "(8110,)\n",
            "(8110, 2000)\n"
          ]
        }
      ],
      "source": [
        "### =========== Your code here ====================\n",
        "\n",
        "mbp_filtered = mbp_values_np[all_filters]\n",
        "art_filtered = art_seg_np[all_filters]\n",
        "\n",
        "### ===============================================\n",
        "\n",
        "print(mbp_filtered.shape)\n",
        "print(art_filtered.shape)"
      ]
    },
    {
      "cell_type": "markdown",
      "metadata": {
        "id": "j654gCFuAb2Q"
      },
      "source": [
        "데이터셋 정의"
      ]
    },
    {
      "cell_type": "code",
      "execution_count": null,
      "metadata": {
        "id": "k46YjDAZAb2R",
        "outputId": "4370d0c2-31b3-4677-de19-d16bb871f01a",
        "colab": {
          "base_uri": "https://localhost:8080/"
        }
      },
      "outputs": [
        {
          "output_type": "execute_result",
          "data": {
            "text/plain": [
              "(640,)"
            ]
          },
          "metadata": {},
          "execution_count": 24
        }
      ],
      "source": [
        "mbp_filtered[mbp_filtered < 60].shape"
      ]
    },
    {
      "cell_type": "markdown",
      "metadata": {
        "id": "VuZYI74mAb2c"
      },
      "source": [
        "### Binary label 정의\n",
        "mbp가 61 미만인 데이터들의 label을 1로 지정하여 학습을 위한 y_label 생성"
      ]
    },
    {
      "cell_type": "code",
      "execution_count": null,
      "metadata": {
        "id": "yo4MdQBFAb2c"
      },
      "outputs": [],
      "source": [
        "label_tmp = np.zeros(len(mbp_filtered))\n",
        "label_tmp[mbp_filtered<61] = 1."
      ]
    },
    {
      "cell_type": "code",
      "execution_count": null,
      "metadata": {
        "id": "raDrxUcdAb2f"
      },
      "outputs": [],
      "source": [
        "x_data = art_filtered\n",
        "y_label = label_tmp"
      ]
    },
    {
      "cell_type": "code",
      "execution_count": null,
      "metadata": {
        "id": "KjjtcQifAb2j",
        "outputId": "1d35f93e-d0b0-42c8-98ae-9cc019061790",
        "colab": {
          "base_uri": "https://localhost:8080/"
        }
      },
      "outputs": [
        {
          "output_type": "execute_result",
          "data": {
            "text/plain": [
              "(8110, 2000)"
            ]
          },
          "metadata": {},
          "execution_count": 27
        }
      ],
      "source": [
        "x_data.shape"
      ]
    },
    {
      "cell_type": "code",
      "execution_count": null,
      "metadata": {
        "id": "WGO6dqX1Ab2m",
        "outputId": "42c47a8a-79ac-4ba3-f5c8-d2812b74dcda",
        "colab": {
          "base_uri": "https://localhost:8080/"
        }
      },
      "outputs": [
        {
          "output_type": "execute_result",
          "data": {
            "text/plain": [
              "(8110,)"
            ]
          },
          "metadata": {},
          "execution_count": 28
        }
      ],
      "source": [
        "y_label.shape"
      ]
    },
    {
      "cell_type": "code",
      "execution_count": null,
      "metadata": {
        "id": "aUsVhpD9Ab2o"
      },
      "outputs": [],
      "source": []
    },
    {
      "cell_type": "code",
      "execution_count": null,
      "metadata": {
        "id": "oXWfOAeGAb2r"
      },
      "outputs": [],
      "source": []
    }
  ],
  "metadata": {
    "colab": {
      "provenance": [],
      "include_colab_link": true
    },
    "kernelspec": {
      "display_name": "keras",
      "language": "python",
      "name": "lims1_keras"
    },
    "language_info": {
      "codemirror_mode": {
        "name": "ipython",
        "version": 3
      },
      "file_extension": ".py",
      "mimetype": "text/x-python",
      "name": "python",
      "nbconvert_exporter": "python",
      "pygments_lexer": "ipython3",
      "version": "3.8.12"
    },
    "accelerator": "GPU",
    "gpuClass": "standard"
  },
  "nbformat": 4,
  "nbformat_minor": 0
}