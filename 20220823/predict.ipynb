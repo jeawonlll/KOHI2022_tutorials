{
  "nbformat": 4,
  "nbformat_minor": 0,
  "metadata": {
    "colab": {
      "provenance": [],
      "include_colab_link": true
    },
    "kernelspec": {
      "name": "python3",
      "display_name": "Python 3"
    }
  },
  "cells": [
    {
      "cell_type": "markdown",
      "metadata": {
        "id": "view-in-github",
        "colab_type": "text"
      },
      "source": [
        "<a href=\"https://colab.research.google.com/github/jeawonlll/KOHI2022_tutorials/blob/main/20220823/predict.ipynb\" target=\"_parent\"><img src=\"https://colab.research.google.com/assets/colab-badge.svg\" alt=\"Open In Colab\"/></a>"
      ]
    },
    {
      "cell_type": "markdown",
      "metadata": {
        "id": "EVNIp6lwk5DD"
      },
      "source": [
        "# Prediction Model for Hepatocellular cardinoma in Hepatitis B patients"
      ]
    },
    {
      "cell_type": "code",
      "metadata": {
        "id": "cHEggysIlr04",
        "colab": {
          "base_uri": "https://localhost:8080/"
        },
        "outputId": "17cb2b99-1e71-41e4-df97-88d94b9ede9e"
      },
      "source": [
        "# recent version xgboost required\n",
        "!pip uninstall xgboost -y\n",
        "!pip install xgboost\n",
        "!wget https://github.com/vitaldb/planb/raw/main/model.json"
      ],
      "execution_count": 1,
      "outputs": [
        {
          "output_type": "stream",
          "name": "stdout",
          "text": [
            "Found existing installation: xgboost 0.90\n",
            "Uninstalling xgboost-0.90:\n",
            "  Successfully uninstalled xgboost-0.90\n",
            "Looking in indexes: https://pypi.org/simple, https://us-python.pkg.dev/colab-wheels/public/simple/\n",
            "Collecting xgboost\n",
            "  Downloading xgboost-1.7.2-py3-none-manylinux2014_x86_64.whl (193.6 MB)\n",
            "\u001b[K     |████████████████████████████████| 193.6 MB 57 kB/s \n",
            "\u001b[?25hRequirement already satisfied: scipy in /usr/local/lib/python3.8/dist-packages (from xgboost) (1.7.3)\n",
            "Requirement already satisfied: numpy in /usr/local/lib/python3.8/dist-packages (from xgboost) (1.21.6)\n",
            "Installing collected packages: xgboost\n",
            "Successfully installed xgboost-1.7.2\n",
            "--2022-12-20 06:44:08--  https://github.com/vitaldb/planb/raw/main/model.json\n",
            "Resolving github.com (github.com)... 140.82.112.3\n",
            "Connecting to github.com (github.com)|140.82.112.3|:443... connected.\n",
            "HTTP request sent, awaiting response... 302 Found\n",
            "Location: https://raw.githubusercontent.com/vitaldb/planb/main/model.json [following]\n",
            "--2022-12-20 06:44:09--  https://raw.githubusercontent.com/vitaldb/planb/main/model.json\n",
            "Resolving raw.githubusercontent.com (raw.githubusercontent.com)... 185.199.108.133, 185.199.109.133, 185.199.110.133, ...\n",
            "Connecting to raw.githubusercontent.com (raw.githubusercontent.com)|185.199.108.133|:443... connected.\n",
            "HTTP request sent, awaiting response... 200 OK\n",
            "Length: 60814 (59K) [text/plain]\n",
            "Saving to: ‘model.json’\n",
            "\n",
            "model.json          100%[===================>]  59.39K  --.-KB/s    in 0.008s  \n",
            "\n",
            "2022-12-20 06:44:09 (7.15 MB/s) - ‘model.json’ saved [60814/60814]\n",
            "\n"
          ]
        }
      ]
    },
    {
      "cell_type": "code",
      "metadata": {
        "id": "c8eh2Sx6k21M",
        "colab": {
          "base_uri": "https://localhost:8080/"
        },
        "outputId": "e7f0c08a-8b2c-4b76-c1d3-ca4e837cc411"
      },
      "source": [
        "import xgboost as xgb\n",
        "import numpy as np\n",
        "import sys\n",
        "import pickle\n",
        "\n",
        "# sample values\n",
        "male = 0\n",
        "age = 48\n",
        "e_t = 1\n",
        "lc = 1  # None for missing value\n",
        "plt = 172\n",
        "alb = 4.1\n",
        "tbil = 1.1\n",
        "alt = 122\n",
        "dna = 74279943\n",
        "hbeag = 1\n",
        "\n",
        "model = xgb.Booster()\n",
        "model.load_model('model.json')\n",
        "x = np.array([male, age, e_t, lc, plt, alb, tbil, alt, dna, hbeag]).astype(float)\n",
        "x = x[None, ...]\n",
        "x = xgb.DMatrix(x)\n",
        "y = model.predict(x)[0]\n",
        "\n",
        "print('score = {:.3f}'.format(y))"
      ],
      "execution_count": 2,
      "outputs": [
        {
          "output_type": "stream",
          "name": "stdout",
          "text": [
            "score = 0.196\n"
          ]
        }
      ]
    }
  ]
}