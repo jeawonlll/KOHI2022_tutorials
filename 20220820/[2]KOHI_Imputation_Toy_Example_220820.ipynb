{
  "nbformat": 4,
  "nbformat_minor": 0,
  "metadata": {
    "colab": {
      "provenance": [],
      "include_colab_link": true
    },
    "kernelspec": {
      "name": "python3",
      "display_name": "Python 3"
    },
    "language_info": {
      "name": "python"
    }
  },
  "cells": [
    {
      "cell_type": "markdown",
      "metadata": {
        "id": "view-in-github",
        "colab_type": "text"
      },
      "source": [
        "<a href=\"https://colab.research.google.com/github/jeawonlll/KOHI2022_tutorials/blob/main/20220820/%5B2%5DKOHI_Imputation_Toy_Example_220820.ipynb\" target=\"_parent\"><img src=\"https://colab.research.google.com/assets/colab-badge.svg\" alt=\"Open In Colab\"/></a>"
      ]
    },
    {
      "cell_type": "markdown",
      "metadata": {
        "id": "UsFaczNk37IT"
      },
      "source": [
        "# Multivariate Imputation by Chained Equations (MICE) 및 kNN Imputation 실습"
      ]
    },
    {
      "cell_type": "markdown",
      "metadata": {
        "id": "8cQBnVvV4Kh_"
      },
      "source": [
        "## 순서\n",
        "\n",
        "\n",
        "*   Univariate feature imputation\n",
        "*   Multivariate feature imputation\n",
        "*   Nearest neighbors imputation\n",
        "\n",
        "\n",
        "\n"
      ]
    },
    {
      "cell_type": "markdown",
      "metadata": {
        "id": "6F7LuAwr47-p"
      },
      "source": [
        "## Univariate feature imputation"
      ]
    },
    {
      "cell_type": "markdown",
      "metadata": {
        "id": "dPVg_FUrDJNo"
      },
      "source": [
        "### sklearn.impute.SimpleImputer\n",
        "\n",
        "\n",
        "*   missing_values: int, float, str, np.nan 등 missing value로 지정할 수 있는 데이터 타입\n",
        "*   strategy: imputation 전략으로 각각 'mean', 'median', 'most_fequent', 'constant'가 설정되어 있음\n",
        "*   fill_value: strategy가 'constant'로 되어있는 경우 채워질 수 있는 값\n",
        "*   copy: copy가 true로 되어있는 경우 imputation이 완료된 input X가 새롭게 생성이 되어지며, false로 되어있는 경우 input X 자체에 imputation이 적용되어짐\n",
        "\n",
        "\n",
        "\n"
      ]
    },
    {
      "cell_type": "code",
      "metadata": {
        "id": "qSuARTq646B_",
        "colab": {
          "base_uri": "https://localhost:8080/"
        },
        "outputId": "130ae785-6d47-4645-d9ac-3deadf80e917"
      },
      "source": [
        "import numpy as np\n",
        "from sklearn.experimental import enable_iterative_imputer\n",
        "from sklearn.impute import SimpleImputer, KNNImputer, IterativeImputer\n",
        "\n",
        "toy_train_data = [[1, 2.3], [np.nan, 3], [7, 6], [8.4, 3], [2, np.nan]]\n",
        "toy_test_data = [[np.nan, 4], [np.nan, np.nan], [5.5, 8], [np.nan, 9], [2.7, np.nan]]\n",
        "simple_imp = SimpleImputer(missing_values=np.nan, strategy='mean')\n",
        "simple_imp.fit(toy_train_data)\n",
        "\n",
        "print(simple_imp.transform(toy_test_data))"
      ],
      "execution_count": 1,
      "outputs": [
        {
          "output_type": "stream",
          "name": "stdout",
          "text": [
            "[[4.6   4.   ]\n",
            " [4.6   3.575]\n",
            " [5.5   8.   ]\n",
            " [4.6   9.   ]\n",
            " [2.7   3.575]]\n"
          ]
        }
      ]
    },
    {
      "cell_type": "markdown",
      "metadata": {
        "id": "JpAhPiPGFF1a"
      },
      "source": [
        "### 실습: float type에 대한 'median' imputation "
      ]
    },
    {
      "cell_type": "code",
      "metadata": {
        "id": "lJWvGbrSR4Lc",
        "colab": {
          "base_uri": "https://localhost:8080/"
        },
        "outputId": "b1f87d4e-ff46-4b2d-d2a7-3e00f86112e0"
      },
      "source": [
        "toy_train_data = [[1, 2.3], [np.nan, 3], [7.5, 6], [8.4, 3], [2.1, np.nan]]\n",
        "toy_test_data = [[np.nan, 4.2], [np.nan, np.nan], [5.5, 8], [np.nan, 9.1], [2.7, np.nan]]\n",
        "toy_dat = [[np.nan, np.nan],[3,5.4]]\n",
        "simple_imp_mean = SimpleImputer(missing_values=np.nan, strategy='mean')\n",
        "simple_imp_mean.fit(toy_train_data)\n",
        "\n",
        "print('### Imputation with Mean')\n",
        "print(simple_imp_mean.transform(toy_test_data))\n",
        "print('\\n\\n')\n",
        "\n",
        "simple_imp_median = SimpleImputer(missing_values=np.nan, strategy=\"median\")\n",
        "simple_imp_median.fit(toy_train_data)\n",
        "\n",
        "print('### Imputation with Median')\n",
        "print(simple_imp_median.transform(toy_test_data))"
      ],
      "execution_count": 2,
      "outputs": [
        {
          "output_type": "stream",
          "name": "stdout",
          "text": [
            "### Imputation with Mean\n",
            "[[4.75  4.2  ]\n",
            " [4.75  3.575]\n",
            " [5.5   8.   ]\n",
            " [4.75  9.1  ]\n",
            " [2.7   3.575]]\n",
            "\n",
            "\n",
            "\n",
            "### Imputation with Median\n",
            "[[4.8 4.2]\n",
            " [4.8 3. ]\n",
            " [5.5 8. ]\n",
            " [4.8 9.1]\n",
            " [2.7 3. ]]\n"
          ]
        }
      ]
    },
    {
      "cell_type": "markdown",
      "metadata": {
        "id": "60-D3INPFSuZ"
      },
      "source": [
        "### sklearn.impute.IterativeImputer\n",
        "\n",
        "\n",
        "\n",
        "* estimator: 매 round-robin imputation step 마다 사용될 모델로 default는 Bayesian Ridge 모델로 되어 있음. 추가적으로 사용해 볼 수 있는 모델은 Decision Tree Regressor, Extra Trees Regressor 등이 있음.\n",
        "* missing_values: 상기 작성된 내용과 동일\n",
        "* max_iter: Imputation round의 maximum step 수\n",
        "* tol: stopping condition에 해당하는 수치\n",
        "* n_nearest_features: missing value를 estimate 하기 위해 사용할 '다른' feature의 개수\n",
        "* initial_strategy: SimpleImputer의 'strategy' hyperparameter와 동일\n",
        "* imputation_order: Feature 별로 imputation이 되는 순서. 가능한 값은 'ascending', 'descending', 'roman', 'arabic', 'random'이 있음.\n",
        "* skip_complete: True로 세팅되어 있는 경우, 'fit' 단계에서 missing value가 전혀 없었던 feature를 'transform'할 때 initial imputation 만을 실시. (missing value가 많지 않은 데이터의 경우 해당 값을 True로 세팅하여 'fit'과 'transform'에 시간 단축을 기대해 볼 수 있음) \n",
        "* min_value: imputation 되는 값의 최소 기대값 (imputation 되는 값은 이 수치 아래로 떨어질 수 없음)\n",
        "* max_value: imputation 되는 값의 최대 기대값 (imputation 되는 값은 이 수치 위로 올라갈 수 없음)"
      ]
    },
    {
      "cell_type": "code",
      "metadata": {
        "id": "Vsfyl3s_7Rut",
        "colab": {
          "base_uri": "https://localhost:8080/"
        },
        "outputId": "2992ac34-0b80-4dbf-d6bf-eeea7e07b922"
      },
      "source": [
        "iter_imp = IterativeImputer(max_iter=10, random_state=0)\n",
        "iter_imp.fit(toy_train_data)\n",
        "\n",
        "print(iter_imp.transform(toy_test_data))"
      ],
      "execution_count": 3,
      "outputs": [
        {
          "output_type": "stream",
          "name": "stdout",
          "text": [
            "[[4.93535118 4.2       ]\n",
            " [4.70704617 3.51527006]\n",
            " [5.5        8.        ]\n",
            " [6.56917587 9.1       ]\n",
            " [2.7        3.33133661]]\n"
          ]
        }
      ]
    },
    {
      "cell_type": "code",
      "source": [
        "iter_imp = IterativeImputer(max_iter=10, random_state=0,imputation_order=\"random\")\n",
        "iter_imp.fit(toy_train_data)\n",
        "\n",
        "print(iter_imp.transform(toy_test_data))"
      ],
      "metadata": {
        "colab": {
          "base_uri": "https://localhost:8080/"
        },
        "id": "C8Zg5W3AQmrA",
        "outputId": "4dd84634-99b0-453f-d4f6-b1dc54a05037"
      },
      "execution_count": 4,
      "outputs": [
        {
          "output_type": "stream",
          "name": "stdout",
          "text": [
            "[[4.93535118 4.2       ]\n",
            " [4.70704617 3.51529096]\n",
            " [5.5        8.        ]\n",
            " [6.56917587 9.1       ]\n",
            " [2.7        3.3314115 ]]\n"
          ]
        }
      ]
    },
    {
      "cell_type": "markdown",
      "metadata": {
        "id": "QJn8B2SlP8zm"
      },
      "source": [
        "### 실습: max value 7, min value 3을 세팅"
      ]
    },
    {
      "cell_type": "code",
      "metadata": {
        "id": "Ikxat3x5S-mK",
        "colab": {
          "base_uri": "https://localhost:8080/"
        },
        "outputId": "6ee2ca6e-2bbb-48e2-c72a-8ee934f56ba1"
      },
      "source": [
        "##Max Value: 7\n",
        "##Min Value: 3\n",
        "iter_imp = IterativeImputer(max_iter=10, random_state=0, max_value=7, min_value=3)\n",
        "iter_imp.fit(toy_train_data)\n",
        "\n",
        "print(iter_imp.transform(toy_test_data))"
      ],
      "execution_count": 5,
      "outputs": [
        {
          "output_type": "stream",
          "name": "stdout",
          "text": [
            "[[4.93535118 4.2       ]\n",
            " [4.70704617 3.51527006]\n",
            " [5.5        8.        ]\n",
            " [6.56917587 9.1       ]\n",
            " [2.7        3.33133661]]\n"
          ]
        }
      ]
    },
    {
      "cell_type": "markdown",
      "metadata": {
        "id": "vnvtxfiwQRfp"
      },
      "source": [
        "### sklearn.impute.KNNImputer\n",
        "\n",
        "* missing_values: 상기 내용과 동일\n",
        "* n_neighbors: kNN 모델의 neighbor k의 수\n",
        "* weights: neighbor의 영향력 계산 방식. 'uniform'의 경우 모든 neighbor의 영향력은 동일하며 'distance'로 세팅할 경우 가까이 있는 neighbor의 경우 더 큰 영향을 주게 됨.\n",
        "* metric: distance를 계산하는 metric 방법\n"
      ]
    },
    {
      "cell_type": "code",
      "metadata": {
        "id": "uTDDTf-6Tc9j",
        "colab": {
          "base_uri": "https://localhost:8080/"
        },
        "outputId": "ea6081d3-b604-4624-c312-b165ce108c31"
      },
      "source": [
        "knn_imp = KNNImputer(n_neighbors=2, weights='uniform')\n",
        "knn_imp.fit(toy_train_data)\n",
        "\n",
        "print(knn_imp.transform(toy_test_data))"
      ],
      "execution_count": 6,
      "outputs": [
        {
          "output_type": "stream",
          "name": "stdout",
          "text": [
            "[[7.95  4.2  ]\n",
            " [4.75  3.575]\n",
            " [5.5   8.   ]\n",
            " [7.95  9.1  ]\n",
            " [2.7   4.15 ]]\n"
          ]
        }
      ]
    },
    {
      "cell_type": "markdown",
      "metadata": {
        "id": "msq4lYxARB_J"
      },
      "source": [
        "### 실습: n_neigbhors를 3개로 설정, weights은 distance 방법을 사용하여 KNNImputer fiting 실시 후 test toy 데이터에 대한 imputation 실시"
      ]
    },
    {
      "cell_type": "code",
      "metadata": {
        "id": "dcsFpnxOTRMw",
        "colab": {
          "base_uri": "https://localhost:8080/"
        },
        "outputId": "0a755a33-584b-44b5-c017-6518cff55f91"
      },
      "source": [
        "##n_neigbhors: 3\n",
        "##weights: distance\n",
        "knn_imp = KNNImputer(n_neighbors=3, weights='distance')\n",
        "knn_imp.fit(toy_train_data)\n",
        "\n",
        "print(knn_imp.transform(toy_test_data))"
      ],
      "execution_count": 7,
      "outputs": [
        {
          "output_type": "stream",
          "name": "stdout",
          "text": [
            "[[6.10534351 4.2       ]\n",
            " [4.75       3.575     ]\n",
            " [5.5        8.        ]\n",
            " [6.22415613 9.1       ]\n",
            " [2.7        3.21937624]]\n"
          ]
        }
      ]
    }
  ]
}