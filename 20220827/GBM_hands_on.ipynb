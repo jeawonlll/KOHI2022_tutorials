{
  "nbformat": 4,
  "nbformat_minor": 0,
  "metadata": {
    "colab": {
      "provenance": [],
      "include_colab_link": true
    },
    "kernelspec": {
      "name": "python3",
      "display_name": "Python 3"
    },
    "accelerator": "GPU"
  },
  "cells": [
    {
      "cell_type": "markdown",
      "metadata": {
        "id": "view-in-github",
        "colab_type": "text"
      },
      "source": [
        "<a href=\"https://colab.research.google.com/github/jeawonlll/KOHI2022_tutorials/blob/main/20220827/GBM_hands_on.ipynb\" target=\"_parent\"><img src=\"https://colab.research.google.com/assets/colab-badge.svg\" alt=\"Open In Colab\"/></a>"
      ]
    },
    {
      "cell_type": "code",
      "metadata": {
        "id": "Pbluzp7qO2Xb"
      },
      "source": [
        "import pandas as pd\n",
        "from sklearn.svm import SVC\n",
        "from sklearn.linear_model import LogisticRegression\n",
        "from sklearn.ensemble import RandomForestClassifier\n",
        "from xgboost import XGBClassifier\n",
        "from sklearn.neural_network import MLPClassifier\n",
        "from sklearn.model_selection import train_test_split, StratifiedKFold, GridSearchCV, cross_val_score\n",
        "from sklearn import metrics\n",
        "from datetime import datetime"
      ],
      "execution_count": 38,
      "outputs": []
    },
    {
      "cell_type": "markdown",
      "metadata": {
        "id": "qTz_qwzSRbEK"
      },
      "source": [
        "# Data Load\n",
        "1. Mount google drive\n",
        "2. Write your data path. ('/content/gdrive/My Drive/............')\n",
        "3. Explore the data"
      ]
    },
    {
      "cell_type": "code",
      "metadata": {
        "id": "B_z5GAMKNvVR",
        "colab": {
          "base_uri": "https://localhost:8080/"
        },
        "outputId": "e53fb9b3-feff-4379-a186-fa9b875e3ce7"
      },
      "source": [
        "from google.colab import drive\n",
        "drive.mount('/content/gdrive')"
      ],
      "execution_count": 2,
      "outputs": [
        {
          "output_type": "stream",
          "name": "stdout",
          "text": [
            "Mounted at /content/gdrive\n"
          ]
        }
      ]
    },
    {
      "cell_type": "code",
      "metadata": {
        "id": "RgxKfIXzOdrc"
      },
      "source": [
        "# Write your data path\n",
        "data_path = '/content/gdrive/MyDrive/Colab Notebooks/mimic_data_sample.csv'\n",
        "\n",
        "data = pd.read_csv(data_path)"
      ],
      "execution_count": 3,
      "outputs": []
    },
    {
      "cell_type": "code",
      "metadata": {
        "id": "abKu6kNFO0t-",
        "colab": {
          "base_uri": "https://localhost:8080/"
        },
        "outputId": "bd38f4bc-8b36-4a38-dd71-8aa9fe2c0906"
      },
      "source": [
        "# Check the data size\n",
        "print(data.shape)\n",
        "\n",
        "# Check column names\n",
        "print(data.columns)"
      ],
      "execution_count": 4,
      "outputs": [
        {
          "output_type": "stream",
          "name": "stdout",
          "text": [
            "(47144, 15)\n",
            "Index(['temperature_f', 'resp_rate', 'mechanical_ventilation', 'oxygenthrapy',\n",
            "       'hr', 'sbp', 'shorkindex', 'shorkindex_age', 'spo2_last', 'spo2_mean',\n",
            "       'paco2', 'bun', 'cr_diff', 'gcs', 'die_in_hosp'],\n",
            "      dtype='object')\n"
          ]
        }
      ]
    },
    {
      "cell_type": "code",
      "metadata": {
        "id": "K-r_afRgOysr",
        "colab": {
          "base_uri": "https://localhost:8080/",
          "height": 300
        },
        "outputId": "ccd97104-2603-40c2-ebd6-d07ed3778233"
      },
      "source": [
        "# Check descriptive statistics\n",
        "data.describe()"
      ],
      "execution_count": 5,
      "outputs": [
        {
          "output_type": "execute_result",
          "data": {
            "text/plain": [
              "       temperature_f     resp_rate  mechanical_ventilation  oxygenthrapy  \\\n",
              "count   47144.000000  47144.000000            47144.000000  47144.000000   \n",
              "mean    -1461.323349   -192.058232                0.181041      0.189950   \n",
              "std      3648.840233   1437.806358                0.385056      0.392266   \n",
              "min     -9999.000000  -9999.000000                0.000000      0.000000   \n",
              "25%        96.999998     15.825000                0.000000      0.000000   \n",
              "50%        97.914286     18.000000                0.000000      0.000000   \n",
              "75%        98.620000     20.750000                0.000000      0.000000   \n",
              "max       100.000000     48.000000                1.000000      1.000000   \n",
              "\n",
              "                 hr           sbp    shorkindex  shorkindex_age     spo2_last  \\\n",
              "count  47144.000000  47144.000000  47144.000000    47144.000000  47144.000000   \n",
              "mean    -118.342447   -398.059689   -510.660356     -467.938797   -123.183565   \n",
              "std     1415.549403   2228.581385   2202.822092     2212.815810   1473.053702   \n",
              "min    -9999.000000  -9999.000000  -9999.000000    -9999.000000  -9999.000000   \n",
              "25%       71.000000    102.000000      0.567376       31.816383     95.000000   \n",
              "50%       83.000000    116.000000      0.695238       42.666667     97.000000   \n",
              "75%       95.000000    132.000000      0.837424       54.375000     99.000000   \n",
              "max      201.000000    267.000000      6.758621      581.241379    100.000000   \n",
              "\n",
              "          spo2_mean         paco2           bun       cr_diff           gcs  \\\n",
              "count  47144.000000  47144.000000  47144.000000  47144.000000  47144.000000   \n",
              "mean    -110.806640  -4682.264148    -72.276790  -5787.220592  -4872.931656   \n",
              "std     1433.962586   5008.798635    976.887639   4937.105495   5005.117119   \n",
              "min    -9999.000000  -9999.000000  -9999.000000  -9999.000000  -9999.000000   \n",
              "25%       96.041667  -9999.000000     12.000000  -9999.000000  -9999.000000   \n",
              "50%       97.488630     21.000000     18.000000  -9999.000000      4.000000   \n",
              "75%       98.657143     37.000000     28.000000     -0.000310     15.000000   \n",
              "max      100.000000    100.000000    242.000000      0.047451     15.000000   \n",
              "\n",
              "        die_in_hosp  \n",
              "count  47144.000000  \n",
              "mean       0.110131  \n",
              "std        0.313056  \n",
              "min        0.000000  \n",
              "25%        0.000000  \n",
              "50%        0.000000  \n",
              "75%        0.000000  \n",
              "max        1.000000  "
            ],
            "text/html": [
              "\n",
              "  <div id=\"df-c308a2e5-2ebe-4db2-b2bc-1f0de77a3d73\">\n",
              "    <div class=\"colab-df-container\">\n",
              "      <div>\n",
              "<style scoped>\n",
              "    .dataframe tbody tr th:only-of-type {\n",
              "        vertical-align: middle;\n",
              "    }\n",
              "\n",
              "    .dataframe tbody tr th {\n",
              "        vertical-align: top;\n",
              "    }\n",
              "\n",
              "    .dataframe thead th {\n",
              "        text-align: right;\n",
              "    }\n",
              "</style>\n",
              "<table border=\"1\" class=\"dataframe\">\n",
              "  <thead>\n",
              "    <tr style=\"text-align: right;\">\n",
              "      <th></th>\n",
              "      <th>temperature_f</th>\n",
              "      <th>resp_rate</th>\n",
              "      <th>mechanical_ventilation</th>\n",
              "      <th>oxygenthrapy</th>\n",
              "      <th>hr</th>\n",
              "      <th>sbp</th>\n",
              "      <th>shorkindex</th>\n",
              "      <th>shorkindex_age</th>\n",
              "      <th>spo2_last</th>\n",
              "      <th>spo2_mean</th>\n",
              "      <th>paco2</th>\n",
              "      <th>bun</th>\n",
              "      <th>cr_diff</th>\n",
              "      <th>gcs</th>\n",
              "      <th>die_in_hosp</th>\n",
              "    </tr>\n",
              "  </thead>\n",
              "  <tbody>\n",
              "    <tr>\n",
              "      <th>count</th>\n",
              "      <td>47144.000000</td>\n",
              "      <td>47144.000000</td>\n",
              "      <td>47144.000000</td>\n",
              "      <td>47144.000000</td>\n",
              "      <td>47144.000000</td>\n",
              "      <td>47144.000000</td>\n",
              "      <td>47144.000000</td>\n",
              "      <td>47144.000000</td>\n",
              "      <td>47144.000000</td>\n",
              "      <td>47144.000000</td>\n",
              "      <td>47144.000000</td>\n",
              "      <td>47144.000000</td>\n",
              "      <td>47144.000000</td>\n",
              "      <td>47144.000000</td>\n",
              "      <td>47144.000000</td>\n",
              "    </tr>\n",
              "    <tr>\n",
              "      <th>mean</th>\n",
              "      <td>-1461.323349</td>\n",
              "      <td>-192.058232</td>\n",
              "      <td>0.181041</td>\n",
              "      <td>0.189950</td>\n",
              "      <td>-118.342447</td>\n",
              "      <td>-398.059689</td>\n",
              "      <td>-510.660356</td>\n",
              "      <td>-467.938797</td>\n",
              "      <td>-123.183565</td>\n",
              "      <td>-110.806640</td>\n",
              "      <td>-4682.264148</td>\n",
              "      <td>-72.276790</td>\n",
              "      <td>-5787.220592</td>\n",
              "      <td>-4872.931656</td>\n",
              "      <td>0.110131</td>\n",
              "    </tr>\n",
              "    <tr>\n",
              "      <th>std</th>\n",
              "      <td>3648.840233</td>\n",
              "      <td>1437.806358</td>\n",
              "      <td>0.385056</td>\n",
              "      <td>0.392266</td>\n",
              "      <td>1415.549403</td>\n",
              "      <td>2228.581385</td>\n",
              "      <td>2202.822092</td>\n",
              "      <td>2212.815810</td>\n",
              "      <td>1473.053702</td>\n",
              "      <td>1433.962586</td>\n",
              "      <td>5008.798635</td>\n",
              "      <td>976.887639</td>\n",
              "      <td>4937.105495</td>\n",
              "      <td>5005.117119</td>\n",
              "      <td>0.313056</td>\n",
              "    </tr>\n",
              "    <tr>\n",
              "      <th>min</th>\n",
              "      <td>-9999.000000</td>\n",
              "      <td>-9999.000000</td>\n",
              "      <td>0.000000</td>\n",
              "      <td>0.000000</td>\n",
              "      <td>-9999.000000</td>\n",
              "      <td>-9999.000000</td>\n",
              "      <td>-9999.000000</td>\n",
              "      <td>-9999.000000</td>\n",
              "      <td>-9999.000000</td>\n",
              "      <td>-9999.000000</td>\n",
              "      <td>-9999.000000</td>\n",
              "      <td>-9999.000000</td>\n",
              "      <td>-9999.000000</td>\n",
              "      <td>-9999.000000</td>\n",
              "      <td>0.000000</td>\n",
              "    </tr>\n",
              "    <tr>\n",
              "      <th>25%</th>\n",
              "      <td>96.999998</td>\n",
              "      <td>15.825000</td>\n",
              "      <td>0.000000</td>\n",
              "      <td>0.000000</td>\n",
              "      <td>71.000000</td>\n",
              "      <td>102.000000</td>\n",
              "      <td>0.567376</td>\n",
              "      <td>31.816383</td>\n",
              "      <td>95.000000</td>\n",
              "      <td>96.041667</td>\n",
              "      <td>-9999.000000</td>\n",
              "      <td>12.000000</td>\n",
              "      <td>-9999.000000</td>\n",
              "      <td>-9999.000000</td>\n",
              "      <td>0.000000</td>\n",
              "    </tr>\n",
              "    <tr>\n",
              "      <th>50%</th>\n",
              "      <td>97.914286</td>\n",
              "      <td>18.000000</td>\n",
              "      <td>0.000000</td>\n",
              "      <td>0.000000</td>\n",
              "      <td>83.000000</td>\n",
              "      <td>116.000000</td>\n",
              "      <td>0.695238</td>\n",
              "      <td>42.666667</td>\n",
              "      <td>97.000000</td>\n",
              "      <td>97.488630</td>\n",
              "      <td>21.000000</td>\n",
              "      <td>18.000000</td>\n",
              "      <td>-9999.000000</td>\n",
              "      <td>4.000000</td>\n",
              "      <td>0.000000</td>\n",
              "    </tr>\n",
              "    <tr>\n",
              "      <th>75%</th>\n",
              "      <td>98.620000</td>\n",
              "      <td>20.750000</td>\n",
              "      <td>0.000000</td>\n",
              "      <td>0.000000</td>\n",
              "      <td>95.000000</td>\n",
              "      <td>132.000000</td>\n",
              "      <td>0.837424</td>\n",
              "      <td>54.375000</td>\n",
              "      <td>99.000000</td>\n",
              "      <td>98.657143</td>\n",
              "      <td>37.000000</td>\n",
              "      <td>28.000000</td>\n",
              "      <td>-0.000310</td>\n",
              "      <td>15.000000</td>\n",
              "      <td>0.000000</td>\n",
              "    </tr>\n",
              "    <tr>\n",
              "      <th>max</th>\n",
              "      <td>100.000000</td>\n",
              "      <td>48.000000</td>\n",
              "      <td>1.000000</td>\n",
              "      <td>1.000000</td>\n",
              "      <td>201.000000</td>\n",
              "      <td>267.000000</td>\n",
              "      <td>6.758621</td>\n",
              "      <td>581.241379</td>\n",
              "      <td>100.000000</td>\n",
              "      <td>100.000000</td>\n",
              "      <td>100.000000</td>\n",
              "      <td>242.000000</td>\n",
              "      <td>0.047451</td>\n",
              "      <td>15.000000</td>\n",
              "      <td>1.000000</td>\n",
              "    </tr>\n",
              "  </tbody>\n",
              "</table>\n",
              "</div>\n",
              "      <button class=\"colab-df-convert\" onclick=\"convertToInteractive('df-c308a2e5-2ebe-4db2-b2bc-1f0de77a3d73')\"\n",
              "              title=\"Convert this dataframe to an interactive table.\"\n",
              "              style=\"display:none;\">\n",
              "        \n",
              "  <svg xmlns=\"http://www.w3.org/2000/svg\" height=\"24px\"viewBox=\"0 0 24 24\"\n",
              "       width=\"24px\">\n",
              "    <path d=\"M0 0h24v24H0V0z\" fill=\"none\"/>\n",
              "    <path d=\"M18.56 5.44l.94 2.06.94-2.06 2.06-.94-2.06-.94-.94-2.06-.94 2.06-2.06.94zm-11 1L8.5 8.5l.94-2.06 2.06-.94-2.06-.94L8.5 2.5l-.94 2.06-2.06.94zm10 10l.94 2.06.94-2.06 2.06-.94-2.06-.94-.94-2.06-.94 2.06-2.06.94z\"/><path d=\"M17.41 7.96l-1.37-1.37c-.4-.4-.92-.59-1.43-.59-.52 0-1.04.2-1.43.59L10.3 9.45l-7.72 7.72c-.78.78-.78 2.05 0 2.83L4 21.41c.39.39.9.59 1.41.59.51 0 1.02-.2 1.41-.59l7.78-7.78 2.81-2.81c.8-.78.8-2.07 0-2.86zM5.41 20L4 18.59l7.72-7.72 1.47 1.35L5.41 20z\"/>\n",
              "  </svg>\n",
              "      </button>\n",
              "      \n",
              "  <style>\n",
              "    .colab-df-container {\n",
              "      display:flex;\n",
              "      flex-wrap:wrap;\n",
              "      gap: 12px;\n",
              "    }\n",
              "\n",
              "    .colab-df-convert {\n",
              "      background-color: #E8F0FE;\n",
              "      border: none;\n",
              "      border-radius: 50%;\n",
              "      cursor: pointer;\n",
              "      display: none;\n",
              "      fill: #1967D2;\n",
              "      height: 32px;\n",
              "      padding: 0 0 0 0;\n",
              "      width: 32px;\n",
              "    }\n",
              "\n",
              "    .colab-df-convert:hover {\n",
              "      background-color: #E2EBFA;\n",
              "      box-shadow: 0px 1px 2px rgba(60, 64, 67, 0.3), 0px 1px 3px 1px rgba(60, 64, 67, 0.15);\n",
              "      fill: #174EA6;\n",
              "    }\n",
              "\n",
              "    [theme=dark] .colab-df-convert {\n",
              "      background-color: #3B4455;\n",
              "      fill: #D2E3FC;\n",
              "    }\n",
              "\n",
              "    [theme=dark] .colab-df-convert:hover {\n",
              "      background-color: #434B5C;\n",
              "      box-shadow: 0px 1px 3px 1px rgba(0, 0, 0, 0.15);\n",
              "      filter: drop-shadow(0px 1px 2px rgba(0, 0, 0, 0.3));\n",
              "      fill: #FFFFFF;\n",
              "    }\n",
              "  </style>\n",
              "\n",
              "      <script>\n",
              "        const buttonEl =\n",
              "          document.querySelector('#df-c308a2e5-2ebe-4db2-b2bc-1f0de77a3d73 button.colab-df-convert');\n",
              "        buttonEl.style.display =\n",
              "          google.colab.kernel.accessAllowed ? 'block' : 'none';\n",
              "\n",
              "        async function convertToInteractive(key) {\n",
              "          const element = document.querySelector('#df-c308a2e5-2ebe-4db2-b2bc-1f0de77a3d73');\n",
              "          const dataTable =\n",
              "            await google.colab.kernel.invokeFunction('convertToInteractive',\n",
              "                                                     [key], {});\n",
              "          if (!dataTable) return;\n",
              "\n",
              "          const docLinkHtml = 'Like what you see? Visit the ' +\n",
              "            '<a target=\"_blank\" href=https://colab.research.google.com/notebooks/data_table.ipynb>data table notebook</a>'\n",
              "            + ' to learn more about interactive tables.';\n",
              "          element.innerHTML = '';\n",
              "          dataTable['output_type'] = 'display_data';\n",
              "          await google.colab.output.renderOutput(dataTable, element);\n",
              "          const docLink = document.createElement('div');\n",
              "          docLink.innerHTML = docLinkHtml;\n",
              "          element.appendChild(docLink);\n",
              "        }\n",
              "      </script>\n",
              "    </div>\n",
              "  </div>\n",
              "  "
            ]
          },
          "metadata": {},
          "execution_count": 5
        }
      ]
    },
    {
      "cell_type": "code",
      "source": [
        "data.head(20)"
      ],
      "metadata": {
        "colab": {
          "base_uri": "https://localhost:8080/",
          "height": 677
        },
        "id": "JliOzJR3LEz8",
        "outputId": "18fb99a3-84b1-475b-c95d-19312c078cf9"
      },
      "execution_count": 6,
      "outputs": [
        {
          "output_type": "execute_result",
          "data": {
            "text/plain": [
              "    temperature_f  resp_rate  mechanical_ventilation  oxygenthrapy     hr  \\\n",
              "0       97.549999  17.324324                       0             0   75.0   \n",
              "1       98.320001  25.352941                       0             0   97.0   \n",
              "2       97.650000  12.407407                       0             0   94.0   \n",
              "3       98.330000  14.404255                       0             0   99.0   \n",
              "4       98.357144  18.000000                       0             0  101.0   \n",
              "5       97.909092  15.238095                       0             0   73.0   \n",
              "6       97.649998  15.320000                       0             0  119.0   \n",
              "7    -9999.000000  20.687500                       0             0   96.0   \n",
              "8       97.766666  20.558824                       0             0   85.0   \n",
              "9       99.316667  19.958333                       0             0  106.0   \n",
              "10      96.800003  15.404762                       0             0   80.0   \n",
              "11      97.127273  16.791667                       0             0   75.0   \n",
              "12      99.339999  16.885714                       0             0   77.0   \n",
              "13      98.500000  18.800000                       0             0  116.0   \n",
              "14      97.166667  16.733333                       0             0   85.0   \n",
              "15      98.099998  16.647059                       0             0   94.0   \n",
              "16      97.566666  15.076923                       0             0   72.0   \n",
              "17      97.400000  16.031250                       0             0   74.0   \n",
              "18      99.574999  19.727273                       0             0   64.0   \n",
              "19   -9999.000000  16.968750                       0             0  102.0   \n",
              "\n",
              "    sbp  shorkindex  shorkindex_age  spo2_last  spo2_mean  paco2  bun  \\\n",
              "0   102    0.735294       55.882353         98  97.589744     30   15   \n",
              "1   119    0.815126       39.126050         98  97.500000  -9999   20   \n",
              "2   127    0.740157       48.850394        100  99.185185  -9999   17   \n",
              "3   177    0.559322       22.932203        100  97.707317     27   33   \n",
              "4   109    0.926606       46.330275         97  96.500000  -9999   16   \n",
              "5   142    0.514085       37.014085         96  96.531250     25   37   \n",
              "6   108    1.101852       44.074074        100  97.700000     29   16   \n",
              "7   106    0.905660       43.471698         96  98.176471     32    8   \n",
              "8    98    0.867347       40.765306         97  99.057143     40   12   \n",
              "9   139    0.762590       38.892086         96  96.833333     29   12   \n",
              "10  106    0.754717       57.358491         99  98.418605     25   18   \n",
              "11  113    0.663717       57.743363         98  99.692308     23   46   \n",
              "12   93    0.827957       72.860215         97  96.323529  -9999   38   \n",
              "13  140    0.828571       53.857143         99  98.125000  -9999    9   \n",
              "14  107    0.794393       59.579439         97  98.233333  -9999   22   \n",
              "15  113    0.831858       59.061947         96  98.473684     24   20   \n",
              "16  121    0.595041       23.206612         97  98.538462  -9999   11   \n",
              "17  112    0.660714       38.982143         93  97.166667     42   12   \n",
              "18  103    0.621359       44.737864         96  97.166667  -9999   36   \n",
              "19  164    0.621951       46.024390         95  96.424242     41   25   \n",
              "\n",
              "         cr_diff   gcs  die_in_hosp  \n",
              "0  -9.999000e+03    15            0  \n",
              "1   1.013370e-03    15            0  \n",
              "2  -1.459472e-03    15            0  \n",
              "3  -5.190890e-04    15            1  \n",
              "4  -1.269512e-03    13            0  \n",
              "5   7.716450e-04    15            1  \n",
              "6   1.075573e-03    15            0  \n",
              "7   1.524148e-03    15            0  \n",
              "8   7.814220e-04     3            0  \n",
              "9  -1.558001e-03    15            0  \n",
              "10 -9.999000e+03    15            0  \n",
              "11 -1.277138e-03    13            0  \n",
              "12 -1.097935e-03    13            1  \n",
              "13 -9.999000e+03    15            0  \n",
              "14 -9.999000e+03 -9999            0  \n",
              "15  5.038070e-04    15            0  \n",
              "16 -8.670000e-19    15            0  \n",
              "17 -3.197627e-03    15            0  \n",
              "18 -7.712830e-04    15            0  \n",
              "19  8.250000e-05     3            0  "
            ],
            "text/html": [
              "\n",
              "  <div id=\"df-1ea7ac68-524f-4159-b5ed-9b75c6c03635\">\n",
              "    <div class=\"colab-df-container\">\n",
              "      <div>\n",
              "<style scoped>\n",
              "    .dataframe tbody tr th:only-of-type {\n",
              "        vertical-align: middle;\n",
              "    }\n",
              "\n",
              "    .dataframe tbody tr th {\n",
              "        vertical-align: top;\n",
              "    }\n",
              "\n",
              "    .dataframe thead th {\n",
              "        text-align: right;\n",
              "    }\n",
              "</style>\n",
              "<table border=\"1\" class=\"dataframe\">\n",
              "  <thead>\n",
              "    <tr style=\"text-align: right;\">\n",
              "      <th></th>\n",
              "      <th>temperature_f</th>\n",
              "      <th>resp_rate</th>\n",
              "      <th>mechanical_ventilation</th>\n",
              "      <th>oxygenthrapy</th>\n",
              "      <th>hr</th>\n",
              "      <th>sbp</th>\n",
              "      <th>shorkindex</th>\n",
              "      <th>shorkindex_age</th>\n",
              "      <th>spo2_last</th>\n",
              "      <th>spo2_mean</th>\n",
              "      <th>paco2</th>\n",
              "      <th>bun</th>\n",
              "      <th>cr_diff</th>\n",
              "      <th>gcs</th>\n",
              "      <th>die_in_hosp</th>\n",
              "    </tr>\n",
              "  </thead>\n",
              "  <tbody>\n",
              "    <tr>\n",
              "      <th>0</th>\n",
              "      <td>97.549999</td>\n",
              "      <td>17.324324</td>\n",
              "      <td>0</td>\n",
              "      <td>0</td>\n",
              "      <td>75.0</td>\n",
              "      <td>102</td>\n",
              "      <td>0.735294</td>\n",
              "      <td>55.882353</td>\n",
              "      <td>98</td>\n",
              "      <td>97.589744</td>\n",
              "      <td>30</td>\n",
              "      <td>15</td>\n",
              "      <td>-9.999000e+03</td>\n",
              "      <td>15</td>\n",
              "      <td>0</td>\n",
              "    </tr>\n",
              "    <tr>\n",
              "      <th>1</th>\n",
              "      <td>98.320001</td>\n",
              "      <td>25.352941</td>\n",
              "      <td>0</td>\n",
              "      <td>0</td>\n",
              "      <td>97.0</td>\n",
              "      <td>119</td>\n",
              "      <td>0.815126</td>\n",
              "      <td>39.126050</td>\n",
              "      <td>98</td>\n",
              "      <td>97.500000</td>\n",
              "      <td>-9999</td>\n",
              "      <td>20</td>\n",
              "      <td>1.013370e-03</td>\n",
              "      <td>15</td>\n",
              "      <td>0</td>\n",
              "    </tr>\n",
              "    <tr>\n",
              "      <th>2</th>\n",
              "      <td>97.650000</td>\n",
              "      <td>12.407407</td>\n",
              "      <td>0</td>\n",
              "      <td>0</td>\n",
              "      <td>94.0</td>\n",
              "      <td>127</td>\n",
              "      <td>0.740157</td>\n",
              "      <td>48.850394</td>\n",
              "      <td>100</td>\n",
              "      <td>99.185185</td>\n",
              "      <td>-9999</td>\n",
              "      <td>17</td>\n",
              "      <td>-1.459472e-03</td>\n",
              "      <td>15</td>\n",
              "      <td>0</td>\n",
              "    </tr>\n",
              "    <tr>\n",
              "      <th>3</th>\n",
              "      <td>98.330000</td>\n",
              "      <td>14.404255</td>\n",
              "      <td>0</td>\n",
              "      <td>0</td>\n",
              "      <td>99.0</td>\n",
              "      <td>177</td>\n",
              "      <td>0.559322</td>\n",
              "      <td>22.932203</td>\n",
              "      <td>100</td>\n",
              "      <td>97.707317</td>\n",
              "      <td>27</td>\n",
              "      <td>33</td>\n",
              "      <td>-5.190890e-04</td>\n",
              "      <td>15</td>\n",
              "      <td>1</td>\n",
              "    </tr>\n",
              "    <tr>\n",
              "      <th>4</th>\n",
              "      <td>98.357144</td>\n",
              "      <td>18.000000</td>\n",
              "      <td>0</td>\n",
              "      <td>0</td>\n",
              "      <td>101.0</td>\n",
              "      <td>109</td>\n",
              "      <td>0.926606</td>\n",
              "      <td>46.330275</td>\n",
              "      <td>97</td>\n",
              "      <td>96.500000</td>\n",
              "      <td>-9999</td>\n",
              "      <td>16</td>\n",
              "      <td>-1.269512e-03</td>\n",
              "      <td>13</td>\n",
              "      <td>0</td>\n",
              "    </tr>\n",
              "    <tr>\n",
              "      <th>5</th>\n",
              "      <td>97.909092</td>\n",
              "      <td>15.238095</td>\n",
              "      <td>0</td>\n",
              "      <td>0</td>\n",
              "      <td>73.0</td>\n",
              "      <td>142</td>\n",
              "      <td>0.514085</td>\n",
              "      <td>37.014085</td>\n",
              "      <td>96</td>\n",
              "      <td>96.531250</td>\n",
              "      <td>25</td>\n",
              "      <td>37</td>\n",
              "      <td>7.716450e-04</td>\n",
              "      <td>15</td>\n",
              "      <td>1</td>\n",
              "    </tr>\n",
              "    <tr>\n",
              "      <th>6</th>\n",
              "      <td>97.649998</td>\n",
              "      <td>15.320000</td>\n",
              "      <td>0</td>\n",
              "      <td>0</td>\n",
              "      <td>119.0</td>\n",
              "      <td>108</td>\n",
              "      <td>1.101852</td>\n",
              "      <td>44.074074</td>\n",
              "      <td>100</td>\n",
              "      <td>97.700000</td>\n",
              "      <td>29</td>\n",
              "      <td>16</td>\n",
              "      <td>1.075573e-03</td>\n",
              "      <td>15</td>\n",
              "      <td>0</td>\n",
              "    </tr>\n",
              "    <tr>\n",
              "      <th>7</th>\n",
              "      <td>-9999.000000</td>\n",
              "      <td>20.687500</td>\n",
              "      <td>0</td>\n",
              "      <td>0</td>\n",
              "      <td>96.0</td>\n",
              "      <td>106</td>\n",
              "      <td>0.905660</td>\n",
              "      <td>43.471698</td>\n",
              "      <td>96</td>\n",
              "      <td>98.176471</td>\n",
              "      <td>32</td>\n",
              "      <td>8</td>\n",
              "      <td>1.524148e-03</td>\n",
              "      <td>15</td>\n",
              "      <td>0</td>\n",
              "    </tr>\n",
              "    <tr>\n",
              "      <th>8</th>\n",
              "      <td>97.766666</td>\n",
              "      <td>20.558824</td>\n",
              "      <td>0</td>\n",
              "      <td>0</td>\n",
              "      <td>85.0</td>\n",
              "      <td>98</td>\n",
              "      <td>0.867347</td>\n",
              "      <td>40.765306</td>\n",
              "      <td>97</td>\n",
              "      <td>99.057143</td>\n",
              "      <td>40</td>\n",
              "      <td>12</td>\n",
              "      <td>7.814220e-04</td>\n",
              "      <td>3</td>\n",
              "      <td>0</td>\n",
              "    </tr>\n",
              "    <tr>\n",
              "      <th>9</th>\n",
              "      <td>99.316667</td>\n",
              "      <td>19.958333</td>\n",
              "      <td>0</td>\n",
              "      <td>0</td>\n",
              "      <td>106.0</td>\n",
              "      <td>139</td>\n",
              "      <td>0.762590</td>\n",
              "      <td>38.892086</td>\n",
              "      <td>96</td>\n",
              "      <td>96.833333</td>\n",
              "      <td>29</td>\n",
              "      <td>12</td>\n",
              "      <td>-1.558001e-03</td>\n",
              "      <td>15</td>\n",
              "      <td>0</td>\n",
              "    </tr>\n",
              "    <tr>\n",
              "      <th>10</th>\n",
              "      <td>96.800003</td>\n",
              "      <td>15.404762</td>\n",
              "      <td>0</td>\n",
              "      <td>0</td>\n",
              "      <td>80.0</td>\n",
              "      <td>106</td>\n",
              "      <td>0.754717</td>\n",
              "      <td>57.358491</td>\n",
              "      <td>99</td>\n",
              "      <td>98.418605</td>\n",
              "      <td>25</td>\n",
              "      <td>18</td>\n",
              "      <td>-9.999000e+03</td>\n",
              "      <td>15</td>\n",
              "      <td>0</td>\n",
              "    </tr>\n",
              "    <tr>\n",
              "      <th>11</th>\n",
              "      <td>97.127273</td>\n",
              "      <td>16.791667</td>\n",
              "      <td>0</td>\n",
              "      <td>0</td>\n",
              "      <td>75.0</td>\n",
              "      <td>113</td>\n",
              "      <td>0.663717</td>\n",
              "      <td>57.743363</td>\n",
              "      <td>98</td>\n",
              "      <td>99.692308</td>\n",
              "      <td>23</td>\n",
              "      <td>46</td>\n",
              "      <td>-1.277138e-03</td>\n",
              "      <td>13</td>\n",
              "      <td>0</td>\n",
              "    </tr>\n",
              "    <tr>\n",
              "      <th>12</th>\n",
              "      <td>99.339999</td>\n",
              "      <td>16.885714</td>\n",
              "      <td>0</td>\n",
              "      <td>0</td>\n",
              "      <td>77.0</td>\n",
              "      <td>93</td>\n",
              "      <td>0.827957</td>\n",
              "      <td>72.860215</td>\n",
              "      <td>97</td>\n",
              "      <td>96.323529</td>\n",
              "      <td>-9999</td>\n",
              "      <td>38</td>\n",
              "      <td>-1.097935e-03</td>\n",
              "      <td>13</td>\n",
              "      <td>1</td>\n",
              "    </tr>\n",
              "    <tr>\n",
              "      <th>13</th>\n",
              "      <td>98.500000</td>\n",
              "      <td>18.800000</td>\n",
              "      <td>0</td>\n",
              "      <td>0</td>\n",
              "      <td>116.0</td>\n",
              "      <td>140</td>\n",
              "      <td>0.828571</td>\n",
              "      <td>53.857143</td>\n",
              "      <td>99</td>\n",
              "      <td>98.125000</td>\n",
              "      <td>-9999</td>\n",
              "      <td>9</td>\n",
              "      <td>-9.999000e+03</td>\n",
              "      <td>15</td>\n",
              "      <td>0</td>\n",
              "    </tr>\n",
              "    <tr>\n",
              "      <th>14</th>\n",
              "      <td>97.166667</td>\n",
              "      <td>16.733333</td>\n",
              "      <td>0</td>\n",
              "      <td>0</td>\n",
              "      <td>85.0</td>\n",
              "      <td>107</td>\n",
              "      <td>0.794393</td>\n",
              "      <td>59.579439</td>\n",
              "      <td>97</td>\n",
              "      <td>98.233333</td>\n",
              "      <td>-9999</td>\n",
              "      <td>22</td>\n",
              "      <td>-9.999000e+03</td>\n",
              "      <td>-9999</td>\n",
              "      <td>0</td>\n",
              "    </tr>\n",
              "    <tr>\n",
              "      <th>15</th>\n",
              "      <td>98.099998</td>\n",
              "      <td>16.647059</td>\n",
              "      <td>0</td>\n",
              "      <td>0</td>\n",
              "      <td>94.0</td>\n",
              "      <td>113</td>\n",
              "      <td>0.831858</td>\n",
              "      <td>59.061947</td>\n",
              "      <td>96</td>\n",
              "      <td>98.473684</td>\n",
              "      <td>24</td>\n",
              "      <td>20</td>\n",
              "      <td>5.038070e-04</td>\n",
              "      <td>15</td>\n",
              "      <td>0</td>\n",
              "    </tr>\n",
              "    <tr>\n",
              "      <th>16</th>\n",
              "      <td>97.566666</td>\n",
              "      <td>15.076923</td>\n",
              "      <td>0</td>\n",
              "      <td>0</td>\n",
              "      <td>72.0</td>\n",
              "      <td>121</td>\n",
              "      <td>0.595041</td>\n",
              "      <td>23.206612</td>\n",
              "      <td>97</td>\n",
              "      <td>98.538462</td>\n",
              "      <td>-9999</td>\n",
              "      <td>11</td>\n",
              "      <td>-8.670000e-19</td>\n",
              "      <td>15</td>\n",
              "      <td>0</td>\n",
              "    </tr>\n",
              "    <tr>\n",
              "      <th>17</th>\n",
              "      <td>97.400000</td>\n",
              "      <td>16.031250</td>\n",
              "      <td>0</td>\n",
              "      <td>0</td>\n",
              "      <td>74.0</td>\n",
              "      <td>112</td>\n",
              "      <td>0.660714</td>\n",
              "      <td>38.982143</td>\n",
              "      <td>93</td>\n",
              "      <td>97.166667</td>\n",
              "      <td>42</td>\n",
              "      <td>12</td>\n",
              "      <td>-3.197627e-03</td>\n",
              "      <td>15</td>\n",
              "      <td>0</td>\n",
              "    </tr>\n",
              "    <tr>\n",
              "      <th>18</th>\n",
              "      <td>99.574999</td>\n",
              "      <td>19.727273</td>\n",
              "      <td>0</td>\n",
              "      <td>0</td>\n",
              "      <td>64.0</td>\n",
              "      <td>103</td>\n",
              "      <td>0.621359</td>\n",
              "      <td>44.737864</td>\n",
              "      <td>96</td>\n",
              "      <td>97.166667</td>\n",
              "      <td>-9999</td>\n",
              "      <td>36</td>\n",
              "      <td>-7.712830e-04</td>\n",
              "      <td>15</td>\n",
              "      <td>0</td>\n",
              "    </tr>\n",
              "    <tr>\n",
              "      <th>19</th>\n",
              "      <td>-9999.000000</td>\n",
              "      <td>16.968750</td>\n",
              "      <td>0</td>\n",
              "      <td>0</td>\n",
              "      <td>102.0</td>\n",
              "      <td>164</td>\n",
              "      <td>0.621951</td>\n",
              "      <td>46.024390</td>\n",
              "      <td>95</td>\n",
              "      <td>96.424242</td>\n",
              "      <td>41</td>\n",
              "      <td>25</td>\n",
              "      <td>8.250000e-05</td>\n",
              "      <td>3</td>\n",
              "      <td>0</td>\n",
              "    </tr>\n",
              "  </tbody>\n",
              "</table>\n",
              "</div>\n",
              "      <button class=\"colab-df-convert\" onclick=\"convertToInteractive('df-1ea7ac68-524f-4159-b5ed-9b75c6c03635')\"\n",
              "              title=\"Convert this dataframe to an interactive table.\"\n",
              "              style=\"display:none;\">\n",
              "        \n",
              "  <svg xmlns=\"http://www.w3.org/2000/svg\" height=\"24px\"viewBox=\"0 0 24 24\"\n",
              "       width=\"24px\">\n",
              "    <path d=\"M0 0h24v24H0V0z\" fill=\"none\"/>\n",
              "    <path d=\"M18.56 5.44l.94 2.06.94-2.06 2.06-.94-2.06-.94-.94-2.06-.94 2.06-2.06.94zm-11 1L8.5 8.5l.94-2.06 2.06-.94-2.06-.94L8.5 2.5l-.94 2.06-2.06.94zm10 10l.94 2.06.94-2.06 2.06-.94-2.06-.94-.94-2.06-.94 2.06-2.06.94z\"/><path d=\"M17.41 7.96l-1.37-1.37c-.4-.4-.92-.59-1.43-.59-.52 0-1.04.2-1.43.59L10.3 9.45l-7.72 7.72c-.78.78-.78 2.05 0 2.83L4 21.41c.39.39.9.59 1.41.59.51 0 1.02-.2 1.41-.59l7.78-7.78 2.81-2.81c.8-.78.8-2.07 0-2.86zM5.41 20L4 18.59l7.72-7.72 1.47 1.35L5.41 20z\"/>\n",
              "  </svg>\n",
              "      </button>\n",
              "      \n",
              "  <style>\n",
              "    .colab-df-container {\n",
              "      display:flex;\n",
              "      flex-wrap:wrap;\n",
              "      gap: 12px;\n",
              "    }\n",
              "\n",
              "    .colab-df-convert {\n",
              "      background-color: #E8F0FE;\n",
              "      border: none;\n",
              "      border-radius: 50%;\n",
              "      cursor: pointer;\n",
              "      display: none;\n",
              "      fill: #1967D2;\n",
              "      height: 32px;\n",
              "      padding: 0 0 0 0;\n",
              "      width: 32px;\n",
              "    }\n",
              "\n",
              "    .colab-df-convert:hover {\n",
              "      background-color: #E2EBFA;\n",
              "      box-shadow: 0px 1px 2px rgba(60, 64, 67, 0.3), 0px 1px 3px 1px rgba(60, 64, 67, 0.15);\n",
              "      fill: #174EA6;\n",
              "    }\n",
              "\n",
              "    [theme=dark] .colab-df-convert {\n",
              "      background-color: #3B4455;\n",
              "      fill: #D2E3FC;\n",
              "    }\n",
              "\n",
              "    [theme=dark] .colab-df-convert:hover {\n",
              "      background-color: #434B5C;\n",
              "      box-shadow: 0px 1px 3px 1px rgba(0, 0, 0, 0.15);\n",
              "      filter: drop-shadow(0px 1px 2px rgba(0, 0, 0, 0.3));\n",
              "      fill: #FFFFFF;\n",
              "    }\n",
              "  </style>\n",
              "\n",
              "      <script>\n",
              "        const buttonEl =\n",
              "          document.querySelector('#df-1ea7ac68-524f-4159-b5ed-9b75c6c03635 button.colab-df-convert');\n",
              "        buttonEl.style.display =\n",
              "          google.colab.kernel.accessAllowed ? 'block' : 'none';\n",
              "\n",
              "        async function convertToInteractive(key) {\n",
              "          const element = document.querySelector('#df-1ea7ac68-524f-4159-b5ed-9b75c6c03635');\n",
              "          const dataTable =\n",
              "            await google.colab.kernel.invokeFunction('convertToInteractive',\n",
              "                                                     [key], {});\n",
              "          if (!dataTable) return;\n",
              "\n",
              "          const docLinkHtml = 'Like what you see? Visit the ' +\n",
              "            '<a target=\"_blank\" href=https://colab.research.google.com/notebooks/data_table.ipynb>data table notebook</a>'\n",
              "            + ' to learn more about interactive tables.';\n",
              "          element.innerHTML = '';\n",
              "          dataTable['output_type'] = 'display_data';\n",
              "          await google.colab.output.renderOutput(dataTable, element);\n",
              "          const docLink = document.createElement('div');\n",
              "          docLink.innerHTML = docLinkHtml;\n",
              "          element.appendChild(docLink);\n",
              "        }\n",
              "      </script>\n",
              "    </div>\n",
              "  </div>\n",
              "  "
            ]
          },
          "metadata": {},
          "execution_count": 6
        }
      ]
    },
    {
      "cell_type": "code",
      "metadata": {
        "id": "IYoMLLuvP0Z_",
        "colab": {
          "base_uri": "https://localhost:8080/"
        },
        "outputId": "ba5cce02-bdad-4fdd-b5e4-6181a06462bd"
      },
      "source": [
        "# Check data types and number of not-null values for each column\n",
        "data.info()"
      ],
      "execution_count": 7,
      "outputs": [
        {
          "output_type": "stream",
          "name": "stdout",
          "text": [
            "<class 'pandas.core.frame.DataFrame'>\n",
            "RangeIndex: 47144 entries, 0 to 47143\n",
            "Data columns (total 15 columns):\n",
            " #   Column                  Non-Null Count  Dtype  \n",
            "---  ------                  --------------  -----  \n",
            " 0   temperature_f           47144 non-null  float64\n",
            " 1   resp_rate               47144 non-null  float64\n",
            " 2   mechanical_ventilation  47144 non-null  int64  \n",
            " 3   oxygenthrapy            47144 non-null  int64  \n",
            " 4   hr                      47144 non-null  float64\n",
            " 5   sbp                     47144 non-null  int64  \n",
            " 6   shorkindex              47144 non-null  float64\n",
            " 7   shorkindex_age          47144 non-null  float64\n",
            " 8   spo2_last               47144 non-null  int64  \n",
            " 9   spo2_mean               47144 non-null  float64\n",
            " 10  paco2                   47144 non-null  int64  \n",
            " 11  bun                     47144 non-null  int64  \n",
            " 12  cr_diff                 47144 non-null  float64\n",
            " 13  gcs                     47144 non-null  int64  \n",
            " 14  die_in_hosp             47144 non-null  int64  \n",
            "dtypes: float64(7), int64(8)\n",
            "memory usage: 5.4 MB\n"
          ]
        }
      ]
    },
    {
      "cell_type": "code",
      "metadata": {
        "id": "fcfraHL9IVvy",
        "colab": {
          "base_uri": "https://localhost:8080/",
          "height": 677
        },
        "outputId": "f3921670-947e-45e4-a72d-5595107b8edc"
      },
      "source": [
        "data.head(20)"
      ],
      "execution_count": 8,
      "outputs": [
        {
          "output_type": "execute_result",
          "data": {
            "text/plain": [
              "    temperature_f  resp_rate  mechanical_ventilation  oxygenthrapy     hr  \\\n",
              "0       97.549999  17.324324                       0             0   75.0   \n",
              "1       98.320001  25.352941                       0             0   97.0   \n",
              "2       97.650000  12.407407                       0             0   94.0   \n",
              "3       98.330000  14.404255                       0             0   99.0   \n",
              "4       98.357144  18.000000                       0             0  101.0   \n",
              "5       97.909092  15.238095                       0             0   73.0   \n",
              "6       97.649998  15.320000                       0             0  119.0   \n",
              "7    -9999.000000  20.687500                       0             0   96.0   \n",
              "8       97.766666  20.558824                       0             0   85.0   \n",
              "9       99.316667  19.958333                       0             0  106.0   \n",
              "10      96.800003  15.404762                       0             0   80.0   \n",
              "11      97.127273  16.791667                       0             0   75.0   \n",
              "12      99.339999  16.885714                       0             0   77.0   \n",
              "13      98.500000  18.800000                       0             0  116.0   \n",
              "14      97.166667  16.733333                       0             0   85.0   \n",
              "15      98.099998  16.647059                       0             0   94.0   \n",
              "16      97.566666  15.076923                       0             0   72.0   \n",
              "17      97.400000  16.031250                       0             0   74.0   \n",
              "18      99.574999  19.727273                       0             0   64.0   \n",
              "19   -9999.000000  16.968750                       0             0  102.0   \n",
              "\n",
              "    sbp  shorkindex  shorkindex_age  spo2_last  spo2_mean  paco2  bun  \\\n",
              "0   102    0.735294       55.882353         98  97.589744     30   15   \n",
              "1   119    0.815126       39.126050         98  97.500000  -9999   20   \n",
              "2   127    0.740157       48.850394        100  99.185185  -9999   17   \n",
              "3   177    0.559322       22.932203        100  97.707317     27   33   \n",
              "4   109    0.926606       46.330275         97  96.500000  -9999   16   \n",
              "5   142    0.514085       37.014085         96  96.531250     25   37   \n",
              "6   108    1.101852       44.074074        100  97.700000     29   16   \n",
              "7   106    0.905660       43.471698         96  98.176471     32    8   \n",
              "8    98    0.867347       40.765306         97  99.057143     40   12   \n",
              "9   139    0.762590       38.892086         96  96.833333     29   12   \n",
              "10  106    0.754717       57.358491         99  98.418605     25   18   \n",
              "11  113    0.663717       57.743363         98  99.692308     23   46   \n",
              "12   93    0.827957       72.860215         97  96.323529  -9999   38   \n",
              "13  140    0.828571       53.857143         99  98.125000  -9999    9   \n",
              "14  107    0.794393       59.579439         97  98.233333  -9999   22   \n",
              "15  113    0.831858       59.061947         96  98.473684     24   20   \n",
              "16  121    0.595041       23.206612         97  98.538462  -9999   11   \n",
              "17  112    0.660714       38.982143         93  97.166667     42   12   \n",
              "18  103    0.621359       44.737864         96  97.166667  -9999   36   \n",
              "19  164    0.621951       46.024390         95  96.424242     41   25   \n",
              "\n",
              "         cr_diff   gcs  die_in_hosp  \n",
              "0  -9.999000e+03    15            0  \n",
              "1   1.013370e-03    15            0  \n",
              "2  -1.459472e-03    15            0  \n",
              "3  -5.190890e-04    15            1  \n",
              "4  -1.269512e-03    13            0  \n",
              "5   7.716450e-04    15            1  \n",
              "6   1.075573e-03    15            0  \n",
              "7   1.524148e-03    15            0  \n",
              "8   7.814220e-04     3            0  \n",
              "9  -1.558001e-03    15            0  \n",
              "10 -9.999000e+03    15            0  \n",
              "11 -1.277138e-03    13            0  \n",
              "12 -1.097935e-03    13            1  \n",
              "13 -9.999000e+03    15            0  \n",
              "14 -9.999000e+03 -9999            0  \n",
              "15  5.038070e-04    15            0  \n",
              "16 -8.670000e-19    15            0  \n",
              "17 -3.197627e-03    15            0  \n",
              "18 -7.712830e-04    15            0  \n",
              "19  8.250000e-05     3            0  "
            ],
            "text/html": [
              "\n",
              "  <div id=\"df-10e89357-be6c-4de0-8203-8d711ca2099d\">\n",
              "    <div class=\"colab-df-container\">\n",
              "      <div>\n",
              "<style scoped>\n",
              "    .dataframe tbody tr th:only-of-type {\n",
              "        vertical-align: middle;\n",
              "    }\n",
              "\n",
              "    .dataframe tbody tr th {\n",
              "        vertical-align: top;\n",
              "    }\n",
              "\n",
              "    .dataframe thead th {\n",
              "        text-align: right;\n",
              "    }\n",
              "</style>\n",
              "<table border=\"1\" class=\"dataframe\">\n",
              "  <thead>\n",
              "    <tr style=\"text-align: right;\">\n",
              "      <th></th>\n",
              "      <th>temperature_f</th>\n",
              "      <th>resp_rate</th>\n",
              "      <th>mechanical_ventilation</th>\n",
              "      <th>oxygenthrapy</th>\n",
              "      <th>hr</th>\n",
              "      <th>sbp</th>\n",
              "      <th>shorkindex</th>\n",
              "      <th>shorkindex_age</th>\n",
              "      <th>spo2_last</th>\n",
              "      <th>spo2_mean</th>\n",
              "      <th>paco2</th>\n",
              "      <th>bun</th>\n",
              "      <th>cr_diff</th>\n",
              "      <th>gcs</th>\n",
              "      <th>die_in_hosp</th>\n",
              "    </tr>\n",
              "  </thead>\n",
              "  <tbody>\n",
              "    <tr>\n",
              "      <th>0</th>\n",
              "      <td>97.549999</td>\n",
              "      <td>17.324324</td>\n",
              "      <td>0</td>\n",
              "      <td>0</td>\n",
              "      <td>75.0</td>\n",
              "      <td>102</td>\n",
              "      <td>0.735294</td>\n",
              "      <td>55.882353</td>\n",
              "      <td>98</td>\n",
              "      <td>97.589744</td>\n",
              "      <td>30</td>\n",
              "      <td>15</td>\n",
              "      <td>-9.999000e+03</td>\n",
              "      <td>15</td>\n",
              "      <td>0</td>\n",
              "    </tr>\n",
              "    <tr>\n",
              "      <th>1</th>\n",
              "      <td>98.320001</td>\n",
              "      <td>25.352941</td>\n",
              "      <td>0</td>\n",
              "      <td>0</td>\n",
              "      <td>97.0</td>\n",
              "      <td>119</td>\n",
              "      <td>0.815126</td>\n",
              "      <td>39.126050</td>\n",
              "      <td>98</td>\n",
              "      <td>97.500000</td>\n",
              "      <td>-9999</td>\n",
              "      <td>20</td>\n",
              "      <td>1.013370e-03</td>\n",
              "      <td>15</td>\n",
              "      <td>0</td>\n",
              "    </tr>\n",
              "    <tr>\n",
              "      <th>2</th>\n",
              "      <td>97.650000</td>\n",
              "      <td>12.407407</td>\n",
              "      <td>0</td>\n",
              "      <td>0</td>\n",
              "      <td>94.0</td>\n",
              "      <td>127</td>\n",
              "      <td>0.740157</td>\n",
              "      <td>48.850394</td>\n",
              "      <td>100</td>\n",
              "      <td>99.185185</td>\n",
              "      <td>-9999</td>\n",
              "      <td>17</td>\n",
              "      <td>-1.459472e-03</td>\n",
              "      <td>15</td>\n",
              "      <td>0</td>\n",
              "    </tr>\n",
              "    <tr>\n",
              "      <th>3</th>\n",
              "      <td>98.330000</td>\n",
              "      <td>14.404255</td>\n",
              "      <td>0</td>\n",
              "      <td>0</td>\n",
              "      <td>99.0</td>\n",
              "      <td>177</td>\n",
              "      <td>0.559322</td>\n",
              "      <td>22.932203</td>\n",
              "      <td>100</td>\n",
              "      <td>97.707317</td>\n",
              "      <td>27</td>\n",
              "      <td>33</td>\n",
              "      <td>-5.190890e-04</td>\n",
              "      <td>15</td>\n",
              "      <td>1</td>\n",
              "    </tr>\n",
              "    <tr>\n",
              "      <th>4</th>\n",
              "      <td>98.357144</td>\n",
              "      <td>18.000000</td>\n",
              "      <td>0</td>\n",
              "      <td>0</td>\n",
              "      <td>101.0</td>\n",
              "      <td>109</td>\n",
              "      <td>0.926606</td>\n",
              "      <td>46.330275</td>\n",
              "      <td>97</td>\n",
              "      <td>96.500000</td>\n",
              "      <td>-9999</td>\n",
              "      <td>16</td>\n",
              "      <td>-1.269512e-03</td>\n",
              "      <td>13</td>\n",
              "      <td>0</td>\n",
              "    </tr>\n",
              "    <tr>\n",
              "      <th>5</th>\n",
              "      <td>97.909092</td>\n",
              "      <td>15.238095</td>\n",
              "      <td>0</td>\n",
              "      <td>0</td>\n",
              "      <td>73.0</td>\n",
              "      <td>142</td>\n",
              "      <td>0.514085</td>\n",
              "      <td>37.014085</td>\n",
              "      <td>96</td>\n",
              "      <td>96.531250</td>\n",
              "      <td>25</td>\n",
              "      <td>37</td>\n",
              "      <td>7.716450e-04</td>\n",
              "      <td>15</td>\n",
              "      <td>1</td>\n",
              "    </tr>\n",
              "    <tr>\n",
              "      <th>6</th>\n",
              "      <td>97.649998</td>\n",
              "      <td>15.320000</td>\n",
              "      <td>0</td>\n",
              "      <td>0</td>\n",
              "      <td>119.0</td>\n",
              "      <td>108</td>\n",
              "      <td>1.101852</td>\n",
              "      <td>44.074074</td>\n",
              "      <td>100</td>\n",
              "      <td>97.700000</td>\n",
              "      <td>29</td>\n",
              "      <td>16</td>\n",
              "      <td>1.075573e-03</td>\n",
              "      <td>15</td>\n",
              "      <td>0</td>\n",
              "    </tr>\n",
              "    <tr>\n",
              "      <th>7</th>\n",
              "      <td>-9999.000000</td>\n",
              "      <td>20.687500</td>\n",
              "      <td>0</td>\n",
              "      <td>0</td>\n",
              "      <td>96.0</td>\n",
              "      <td>106</td>\n",
              "      <td>0.905660</td>\n",
              "      <td>43.471698</td>\n",
              "      <td>96</td>\n",
              "      <td>98.176471</td>\n",
              "      <td>32</td>\n",
              "      <td>8</td>\n",
              "      <td>1.524148e-03</td>\n",
              "      <td>15</td>\n",
              "      <td>0</td>\n",
              "    </tr>\n",
              "    <tr>\n",
              "      <th>8</th>\n",
              "      <td>97.766666</td>\n",
              "      <td>20.558824</td>\n",
              "      <td>0</td>\n",
              "      <td>0</td>\n",
              "      <td>85.0</td>\n",
              "      <td>98</td>\n",
              "      <td>0.867347</td>\n",
              "      <td>40.765306</td>\n",
              "      <td>97</td>\n",
              "      <td>99.057143</td>\n",
              "      <td>40</td>\n",
              "      <td>12</td>\n",
              "      <td>7.814220e-04</td>\n",
              "      <td>3</td>\n",
              "      <td>0</td>\n",
              "    </tr>\n",
              "    <tr>\n",
              "      <th>9</th>\n",
              "      <td>99.316667</td>\n",
              "      <td>19.958333</td>\n",
              "      <td>0</td>\n",
              "      <td>0</td>\n",
              "      <td>106.0</td>\n",
              "      <td>139</td>\n",
              "      <td>0.762590</td>\n",
              "      <td>38.892086</td>\n",
              "      <td>96</td>\n",
              "      <td>96.833333</td>\n",
              "      <td>29</td>\n",
              "      <td>12</td>\n",
              "      <td>-1.558001e-03</td>\n",
              "      <td>15</td>\n",
              "      <td>0</td>\n",
              "    </tr>\n",
              "    <tr>\n",
              "      <th>10</th>\n",
              "      <td>96.800003</td>\n",
              "      <td>15.404762</td>\n",
              "      <td>0</td>\n",
              "      <td>0</td>\n",
              "      <td>80.0</td>\n",
              "      <td>106</td>\n",
              "      <td>0.754717</td>\n",
              "      <td>57.358491</td>\n",
              "      <td>99</td>\n",
              "      <td>98.418605</td>\n",
              "      <td>25</td>\n",
              "      <td>18</td>\n",
              "      <td>-9.999000e+03</td>\n",
              "      <td>15</td>\n",
              "      <td>0</td>\n",
              "    </tr>\n",
              "    <tr>\n",
              "      <th>11</th>\n",
              "      <td>97.127273</td>\n",
              "      <td>16.791667</td>\n",
              "      <td>0</td>\n",
              "      <td>0</td>\n",
              "      <td>75.0</td>\n",
              "      <td>113</td>\n",
              "      <td>0.663717</td>\n",
              "      <td>57.743363</td>\n",
              "      <td>98</td>\n",
              "      <td>99.692308</td>\n",
              "      <td>23</td>\n",
              "      <td>46</td>\n",
              "      <td>-1.277138e-03</td>\n",
              "      <td>13</td>\n",
              "      <td>0</td>\n",
              "    </tr>\n",
              "    <tr>\n",
              "      <th>12</th>\n",
              "      <td>99.339999</td>\n",
              "      <td>16.885714</td>\n",
              "      <td>0</td>\n",
              "      <td>0</td>\n",
              "      <td>77.0</td>\n",
              "      <td>93</td>\n",
              "      <td>0.827957</td>\n",
              "      <td>72.860215</td>\n",
              "      <td>97</td>\n",
              "      <td>96.323529</td>\n",
              "      <td>-9999</td>\n",
              "      <td>38</td>\n",
              "      <td>-1.097935e-03</td>\n",
              "      <td>13</td>\n",
              "      <td>1</td>\n",
              "    </tr>\n",
              "    <tr>\n",
              "      <th>13</th>\n",
              "      <td>98.500000</td>\n",
              "      <td>18.800000</td>\n",
              "      <td>0</td>\n",
              "      <td>0</td>\n",
              "      <td>116.0</td>\n",
              "      <td>140</td>\n",
              "      <td>0.828571</td>\n",
              "      <td>53.857143</td>\n",
              "      <td>99</td>\n",
              "      <td>98.125000</td>\n",
              "      <td>-9999</td>\n",
              "      <td>9</td>\n",
              "      <td>-9.999000e+03</td>\n",
              "      <td>15</td>\n",
              "      <td>0</td>\n",
              "    </tr>\n",
              "    <tr>\n",
              "      <th>14</th>\n",
              "      <td>97.166667</td>\n",
              "      <td>16.733333</td>\n",
              "      <td>0</td>\n",
              "      <td>0</td>\n",
              "      <td>85.0</td>\n",
              "      <td>107</td>\n",
              "      <td>0.794393</td>\n",
              "      <td>59.579439</td>\n",
              "      <td>97</td>\n",
              "      <td>98.233333</td>\n",
              "      <td>-9999</td>\n",
              "      <td>22</td>\n",
              "      <td>-9.999000e+03</td>\n",
              "      <td>-9999</td>\n",
              "      <td>0</td>\n",
              "    </tr>\n",
              "    <tr>\n",
              "      <th>15</th>\n",
              "      <td>98.099998</td>\n",
              "      <td>16.647059</td>\n",
              "      <td>0</td>\n",
              "      <td>0</td>\n",
              "      <td>94.0</td>\n",
              "      <td>113</td>\n",
              "      <td>0.831858</td>\n",
              "      <td>59.061947</td>\n",
              "      <td>96</td>\n",
              "      <td>98.473684</td>\n",
              "      <td>24</td>\n",
              "      <td>20</td>\n",
              "      <td>5.038070e-04</td>\n",
              "      <td>15</td>\n",
              "      <td>0</td>\n",
              "    </tr>\n",
              "    <tr>\n",
              "      <th>16</th>\n",
              "      <td>97.566666</td>\n",
              "      <td>15.076923</td>\n",
              "      <td>0</td>\n",
              "      <td>0</td>\n",
              "      <td>72.0</td>\n",
              "      <td>121</td>\n",
              "      <td>0.595041</td>\n",
              "      <td>23.206612</td>\n",
              "      <td>97</td>\n",
              "      <td>98.538462</td>\n",
              "      <td>-9999</td>\n",
              "      <td>11</td>\n",
              "      <td>-8.670000e-19</td>\n",
              "      <td>15</td>\n",
              "      <td>0</td>\n",
              "    </tr>\n",
              "    <tr>\n",
              "      <th>17</th>\n",
              "      <td>97.400000</td>\n",
              "      <td>16.031250</td>\n",
              "      <td>0</td>\n",
              "      <td>0</td>\n",
              "      <td>74.0</td>\n",
              "      <td>112</td>\n",
              "      <td>0.660714</td>\n",
              "      <td>38.982143</td>\n",
              "      <td>93</td>\n",
              "      <td>97.166667</td>\n",
              "      <td>42</td>\n",
              "      <td>12</td>\n",
              "      <td>-3.197627e-03</td>\n",
              "      <td>15</td>\n",
              "      <td>0</td>\n",
              "    </tr>\n",
              "    <tr>\n",
              "      <th>18</th>\n",
              "      <td>99.574999</td>\n",
              "      <td>19.727273</td>\n",
              "      <td>0</td>\n",
              "      <td>0</td>\n",
              "      <td>64.0</td>\n",
              "      <td>103</td>\n",
              "      <td>0.621359</td>\n",
              "      <td>44.737864</td>\n",
              "      <td>96</td>\n",
              "      <td>97.166667</td>\n",
              "      <td>-9999</td>\n",
              "      <td>36</td>\n",
              "      <td>-7.712830e-04</td>\n",
              "      <td>15</td>\n",
              "      <td>0</td>\n",
              "    </tr>\n",
              "    <tr>\n",
              "      <th>19</th>\n",
              "      <td>-9999.000000</td>\n",
              "      <td>16.968750</td>\n",
              "      <td>0</td>\n",
              "      <td>0</td>\n",
              "      <td>102.0</td>\n",
              "      <td>164</td>\n",
              "      <td>0.621951</td>\n",
              "      <td>46.024390</td>\n",
              "      <td>95</td>\n",
              "      <td>96.424242</td>\n",
              "      <td>41</td>\n",
              "      <td>25</td>\n",
              "      <td>8.250000e-05</td>\n",
              "      <td>3</td>\n",
              "      <td>0</td>\n",
              "    </tr>\n",
              "  </tbody>\n",
              "</table>\n",
              "</div>\n",
              "      <button class=\"colab-df-convert\" onclick=\"convertToInteractive('df-10e89357-be6c-4de0-8203-8d711ca2099d')\"\n",
              "              title=\"Convert this dataframe to an interactive table.\"\n",
              "              style=\"display:none;\">\n",
              "        \n",
              "  <svg xmlns=\"http://www.w3.org/2000/svg\" height=\"24px\"viewBox=\"0 0 24 24\"\n",
              "       width=\"24px\">\n",
              "    <path d=\"M0 0h24v24H0V0z\" fill=\"none\"/>\n",
              "    <path d=\"M18.56 5.44l.94 2.06.94-2.06 2.06-.94-2.06-.94-.94-2.06-.94 2.06-2.06.94zm-11 1L8.5 8.5l.94-2.06 2.06-.94-2.06-.94L8.5 2.5l-.94 2.06-2.06.94zm10 10l.94 2.06.94-2.06 2.06-.94-2.06-.94-.94-2.06-.94 2.06-2.06.94z\"/><path d=\"M17.41 7.96l-1.37-1.37c-.4-.4-.92-.59-1.43-.59-.52 0-1.04.2-1.43.59L10.3 9.45l-7.72 7.72c-.78.78-.78 2.05 0 2.83L4 21.41c.39.39.9.59 1.41.59.51 0 1.02-.2 1.41-.59l7.78-7.78 2.81-2.81c.8-.78.8-2.07 0-2.86zM5.41 20L4 18.59l7.72-7.72 1.47 1.35L5.41 20z\"/>\n",
              "  </svg>\n",
              "      </button>\n",
              "      \n",
              "  <style>\n",
              "    .colab-df-container {\n",
              "      display:flex;\n",
              "      flex-wrap:wrap;\n",
              "      gap: 12px;\n",
              "    }\n",
              "\n",
              "    .colab-df-convert {\n",
              "      background-color: #E8F0FE;\n",
              "      border: none;\n",
              "      border-radius: 50%;\n",
              "      cursor: pointer;\n",
              "      display: none;\n",
              "      fill: #1967D2;\n",
              "      height: 32px;\n",
              "      padding: 0 0 0 0;\n",
              "      width: 32px;\n",
              "    }\n",
              "\n",
              "    .colab-df-convert:hover {\n",
              "      background-color: #E2EBFA;\n",
              "      box-shadow: 0px 1px 2px rgba(60, 64, 67, 0.3), 0px 1px 3px 1px rgba(60, 64, 67, 0.15);\n",
              "      fill: #174EA6;\n",
              "    }\n",
              "\n",
              "    [theme=dark] .colab-df-convert {\n",
              "      background-color: #3B4455;\n",
              "      fill: #D2E3FC;\n",
              "    }\n",
              "\n",
              "    [theme=dark] .colab-df-convert:hover {\n",
              "      background-color: #434B5C;\n",
              "      box-shadow: 0px 1px 3px 1px rgba(0, 0, 0, 0.15);\n",
              "      filter: drop-shadow(0px 1px 2px rgba(0, 0, 0, 0.3));\n",
              "      fill: #FFFFFF;\n",
              "    }\n",
              "  </style>\n",
              "\n",
              "      <script>\n",
              "        const buttonEl =\n",
              "          document.querySelector('#df-10e89357-be6c-4de0-8203-8d711ca2099d button.colab-df-convert');\n",
              "        buttonEl.style.display =\n",
              "          google.colab.kernel.accessAllowed ? 'block' : 'none';\n",
              "\n",
              "        async function convertToInteractive(key) {\n",
              "          const element = document.querySelector('#df-10e89357-be6c-4de0-8203-8d711ca2099d');\n",
              "          const dataTable =\n",
              "            await google.colab.kernel.invokeFunction('convertToInteractive',\n",
              "                                                     [key], {});\n",
              "          if (!dataTable) return;\n",
              "\n",
              "          const docLinkHtml = 'Like what you see? Visit the ' +\n",
              "            '<a target=\"_blank\" href=https://colab.research.google.com/notebooks/data_table.ipynb>data table notebook</a>'\n",
              "            + ' to learn more about interactive tables.';\n",
              "          element.innerHTML = '';\n",
              "          dataTable['output_type'] = 'display_data';\n",
              "          await google.colab.output.renderOutput(dataTable, element);\n",
              "          const docLink = document.createElement('div');\n",
              "          docLink.innerHTML = docLinkHtml;\n",
              "          element.appendChild(docLink);\n",
              "        }\n",
              "      </script>\n",
              "    </div>\n",
              "  </div>\n",
              "  "
            ]
          },
          "metadata": {},
          "execution_count": 8
        }
      ]
    },
    {
      "cell_type": "code",
      "metadata": {
        "id": "fkKhppd-UF_g",
        "colab": {
          "base_uri": "https://localhost:8080/"
        },
        "outputId": "c10a85b5-2991-43a3-d915-39e87ccbf06a"
      },
      "source": [
        "# Check class distribution\n",
        "data['die_in_hosp'].value_counts()"
      ],
      "execution_count": 9,
      "outputs": [
        {
          "output_type": "execute_result",
          "data": {
            "text/plain": [
              "0    41952\n",
              "1     5192\n",
              "Name: die_in_hosp, dtype: int64"
            ]
          },
          "metadata": {},
          "execution_count": 9
        }
      ]
    },
    {
      "cell_type": "markdown",
      "metadata": {
        "id": "H7sJKjRBSeW3"
      },
      "source": [
        "# Data Split\n",
        "- train set : test set = 7:3\n",
        "- Stratified split using labels"
      ]
    },
    {
      "cell_type": "code",
      "metadata": {
        "id": "EWdHiLtUR3hV"
      },
      "source": [
        "X = data.drop('die_in_hosp', axis=1)  #열컬럼에서 drop 한다고 알려줌\n",
        "y = data['die_in_hosp']"
      ],
      "execution_count": 10,
      "outputs": []
    },
    {
      "cell_type": "code",
      "metadata": {
        "id": "hT2NwHYUSkHA"
      },
      "source": [
        "#test size 30%, stratify y의 비율을 유지한다는 이야기, 시드고정\n",
        "X_train, X_test, y_train, y_test = train_test_split(X, y, test_size=0.3, shuffle=True, stratify=y,random_state=0)"
      ],
      "execution_count": 11,
      "outputs": []
    },
    {
      "cell_type": "code",
      "source": [
        "X_train.info()"
      ],
      "metadata": {
        "colab": {
          "base_uri": "https://localhost:8080/"
        },
        "id": "qXaMS81RMN8m",
        "outputId": "4fb0eeed-bfda-4768-83b4-1ae06095e33d"
      },
      "execution_count": 12,
      "outputs": [
        {
          "output_type": "stream",
          "name": "stdout",
          "text": [
            "<class 'pandas.core.frame.DataFrame'>\n",
            "Int64Index: 33000 entries, 35874 to 17374\n",
            "Data columns (total 14 columns):\n",
            " #   Column                  Non-Null Count  Dtype  \n",
            "---  ------                  --------------  -----  \n",
            " 0   temperature_f           33000 non-null  float64\n",
            " 1   resp_rate               33000 non-null  float64\n",
            " 2   mechanical_ventilation  33000 non-null  int64  \n",
            " 3   oxygenthrapy            33000 non-null  int64  \n",
            " 4   hr                      33000 non-null  float64\n",
            " 5   sbp                     33000 non-null  int64  \n",
            " 6   shorkindex              33000 non-null  float64\n",
            " 7   shorkindex_age          33000 non-null  float64\n",
            " 8   spo2_last               33000 non-null  int64  \n",
            " 9   spo2_mean               33000 non-null  float64\n",
            " 10  paco2                   33000 non-null  int64  \n",
            " 11  bun                     33000 non-null  int64  \n",
            " 12  cr_diff                 33000 non-null  float64\n",
            " 13  gcs                     33000 non-null  int64  \n",
            "dtypes: float64(7), int64(7)\n",
            "memory usage: 3.8 MB\n"
          ]
        }
      ]
    },
    {
      "cell_type": "markdown",
      "metadata": {
        "id": "VTA5YZllSy2n"
      },
      "source": [
        "# Make untuned XGBoost model\n",
        "\n",
        "파이썬에서 두가지 인터페이스 존재\n",
        "\n",
        "기존 인터페이스와 scilearn 과 호환된 인터페이스\n",
        "\n",
        "오늘 실습은 scikit-learn API 에서의 하이퍼 파라미터로 확인할 예정\n"
      ]
    },
    {
      "cell_type": "code",
      "metadata": {
        "id": "78-mM3RNSw1I",
        "colab": {
          "base_uri": "https://localhost:8080/"
        },
        "outputId": "2350f66c-e71e-46ef-f525-376336520663"
      },
      "source": [
        "xgb = XGBClassifier()\n",
        "xgb.fit(X_train, y_train)"
      ],
      "execution_count": 13,
      "outputs": [
        {
          "output_type": "execute_result",
          "data": {
            "text/plain": [
              "XGBClassifier()"
            ]
          },
          "metadata": {},
          "execution_count": 13
        }
      ]
    },
    {
      "cell_type": "code",
      "source": [
        "print(xgb)"
      ],
      "metadata": {
        "colab": {
          "base_uri": "https://localhost:8080/"
        },
        "id": "FeL_5s8pNIuE",
        "outputId": "da33668a-e2a0-401d-a0eb-8df5416a98c7"
      },
      "execution_count": 14,
      "outputs": [
        {
          "output_type": "stream",
          "name": "stdout",
          "text": [
            "XGBClassifier()\n"
          ]
        }
      ]
    },
    {
      "cell_type": "markdown",
      "source": [
        "### 메모\n",
        "학습이랑 테스트 둘다 평가할것을 권장함\n",
        "- goodnees of fit의 관점\n",
        "- 성능 관점"
      ],
      "metadata": {
        "id": "oG0y_0suN2pI"
      }
    },
    {
      "cell_type": "code",
      "metadata": {
        "id": "A1cXY0HQTLK9"
      },
      "source": [
        "y_train_pred = xgb.predict(X_train)\n",
        "y_train_prob = xgb.predict_proba(X_train)\n",
        "\n",
        "y_test_pred  = xgb.predict(X_test)\n",
        "y_test_prob = xgb.predict_proba(X_test)"
      ],
      "execution_count": 15,
      "outputs": []
    },
    {
      "cell_type": "code",
      "metadata": {
        "id": "p0C6jUIXgUs2",
        "colab": {
          "base_uri": "https://localhost:8080/"
        },
        "outputId": "c345f1fc-1607-4c07-a527-3b6eb68320fc"
      },
      "source": [
        "y_train_prob"
      ],
      "execution_count": 16,
      "outputs": [
        {
          "output_type": "execute_result",
          "data": {
            "text/plain": [
              "array([[0.9332347 , 0.06676532],\n",
              "       [0.8294436 , 0.17055641],\n",
              "       [0.9803089 , 0.01969112],\n",
              "       ...,\n",
              "       [0.918481  , 0.08151904],\n",
              "       [0.95499104, 0.04500896],\n",
              "       [0.96591413, 0.03408586]], dtype=float32)"
            ]
          },
          "metadata": {},
          "execution_count": 16
        }
      ]
    },
    {
      "cell_type": "markdown",
      "source": [
        "## 학습 데이터의 성능 확인\n",
        "- goodnees of fit의 관점"
      ],
      "metadata": {
        "id": "IkXkayMXOJB-"
      }
    },
    {
      "cell_type": "code",
      "metadata": {
        "id": "Wg3uxdemTi4h",
        "colab": {
          "base_uri": "https://localhost:8080/"
        },
        "outputId": "c114c104-9f59-44f1-ac86-f9f23e62b0c6"
      },
      "source": [
        "print('Accuracy: %.4f' % metrics.accuracy_score(y_train, y_train_pred))\n",
        "print('AUC: %.4f' % metrics.roc_auc_score(y_train, y_train_prob[:, 1]))\n",
        "print(metrics.classification_report(y_train, y_train_pred))"
      ],
      "execution_count": 18,
      "outputs": [
        {
          "output_type": "stream",
          "name": "stdout",
          "text": [
            "Accuracy: 0.9172\n",
            "AUC: 0.8858\n",
            "              precision    recall  f1-score   support\n",
            "\n",
            "           0       0.92      0.99      0.96     29366\n",
            "           1       0.80      0.33      0.47      3634\n",
            "\n",
            "    accuracy                           0.92     33000\n",
            "   macro avg       0.86      0.66      0.71     33000\n",
            "weighted avg       0.91      0.92      0.90     33000\n",
            "\n"
          ]
        }
      ]
    },
    {
      "cell_type": "markdown",
      "source": [
        "## test 데이터의 성능 평가"
      ],
      "metadata": {
        "id": "_u3XMFcwOOgB"
      }
    },
    {
      "cell_type": "code",
      "metadata": {
        "id": "MDykH8RVTsnj",
        "colab": {
          "base_uri": "https://localhost:8080/"
        },
        "outputId": "590a8f2e-f0f9-424b-c291-f310f944500f"
      },
      "source": [
        "print('Accuracy: %.4f' % metrics.accuracy_score(y_test, y_test_pred))\n",
        "print('AUC: %.4f' % metrics.roc_auc_score(y_test, y_test_prob[:, 1]))\n",
        "print(metrics.classification_report(y_test, y_test_pred))"
      ],
      "execution_count": 19,
      "outputs": [
        {
          "output_type": "stream",
          "name": "stdout",
          "text": [
            "Accuracy: 0.9147\n",
            "AUC: 0.8677\n",
            "              precision    recall  f1-score   support\n",
            "\n",
            "           0       0.92      0.99      0.95     12586\n",
            "           1       0.77      0.32      0.45      1558\n",
            "\n",
            "    accuracy                           0.91     14144\n",
            "   macro avg       0.85      0.65      0.70     14144\n",
            "weighted avg       0.91      0.91      0.90     14144\n",
            "\n"
          ]
        }
      ]
    },
    {
      "cell_type": "markdown",
      "metadata": {
        "id": "BOV5wkWKYazH"
      },
      "source": [
        "# Fine tune the XGBoost model\n",
        "- Grid search"
      ]
    },
    {
      "cell_type": "code",
      "metadata": {
        "id": "GjWqRWdcZnxL"
      },
      "source": [
        "def fitting_cv(model, param, kfold, train_input, train_target, scoring='roc_auc', n_jobs=1, tracking=True):\n",
        "    '''\n",
        "    [Parameters]\n",
        "    - model: A tuple like ('name', MODEL)\n",
        "    - param\n",
        "    - scoring: neg_mean_absolute_error, neg_mean_squared_error, neg_median_absolute_error, r2\n",
        "               (http://scikit-learn.org/stable/modules/model_evaluation.html#scoring-parameter)\n",
        "    - n_jobs: default as -1 (if it is -1, all CPU cores are used to train and validate models)\n",
        "    - tracking: whether trained model's name and duration time are printed\n",
        "    '''\n",
        "    \n",
        "    name = model[0]\n",
        "    estimator = model[1]\n",
        "    if tracking:\n",
        "        start_time = datetime.now()\n",
        "        print(\"[%s] Start parameter search for model '%s'\" % (start_time, name))\n",
        "        gridsearch = GridSearchCV(estimator=estimator, param_grid=param, cv=cv_idx, scoring=scoring, n_jobs=n_jobs)\n",
        "        gridsearch.fit(train_input, train_target)\n",
        "        end_time = datetime.now()\n",
        "        duration_time = (end_time - start_time).seconds\n",
        "        print(\"[%s] Finish parameter search for model '%s' (time: %d seconds)\" % (end_time, name, duration_time))\n",
        "        print()\n",
        "    else:\n",
        "        gridsearch = GridSearchCV(estimator=estimator, param_grid=param, cv=kfold, scoring=scoring, n_jobs=n_jobs)\n",
        "        gridsearch.fit(train_input, train_target)\n",
        "    \n",
        "    return gridsearch   \n"
      ],
      "execution_count": 20,
      "outputs": []
    },
    {
      "cell_type": "code",
      "source": [
        "?XGBClassifier"
      ],
      "metadata": {
        "id": "3WIVqR-qRkvK"
      },
      "execution_count": 21,
      "outputs": []
    },
    {
      "cell_type": "code",
      "source": [
        "param = {\n",
        "    'learning_rate': [0.01, 0.03],\n",
        "    'max_depth': [2, 3, 4], #bosting이라 weak 하게 주는거임\n",
        "    'n_estimators': [100, 200, 300], #몇단계까지 갈거냐랑 동일함 \n",
        "    'subsample': [0.8, 1], #bootstrap 데이터 샘프링 비율\n",
        "    'colsample_bytree': [0.8, 1],  #bootstrap 컬럼 샘프링 비율\n",
        "    'reg_lambda' : [0.001, 0.005]\n",
        "}\n",
        "# 144개의 후보군이라 많음"
      ],
      "metadata": {
        "id": "vc2kZekVRfrh"
      },
      "execution_count": 22,
      "outputs": []
    },
    {
      "cell_type": "code",
      "metadata": {
        "id": "467YX-VlTvtV"
      },
      "source": [
        "model = ('XGB', XGBClassifier(random_state=1234, tree_method='gpu_hist')) #gpu modeling gpu_hist 주면된다.\n",
        "param = {\n",
        "    'learning_rate': [0.01, 0.03]\n",
        "}"
      ],
      "execution_count": 23,
      "outputs": []
    },
    {
      "cell_type": "code",
      "source": [
        "model = XGBClassifier(random_state=0)\n",
        "grid = GridSearchCV(estimator=model, param_grid=param,cv=5,n_jobs=-1)"
      ],
      "metadata": {
        "id": "vCB92WA4S63F"
      },
      "execution_count": 24,
      "outputs": []
    },
    {
      "cell_type": "code",
      "source": [
        "grid.fit(X_train, y_train) #10번 학습함"
      ],
      "metadata": {
        "colab": {
          "base_uri": "https://localhost:8080/"
        },
        "id": "8GBnFMTlTuao",
        "outputId": "ea8a169d-eafe-4bae-9791-99b70c55de96"
      },
      "execution_count": 25,
      "outputs": [
        {
          "output_type": "execute_result",
          "data": {
            "text/plain": [
              "GridSearchCV(cv=5, estimator=XGBClassifier(), n_jobs=-1,\n",
              "             param_grid={'learning_rate': [0.01, 0.03]})"
            ]
          },
          "metadata": {},
          "execution_count": 25
        }
      ]
    },
    {
      "cell_type": "code",
      "source": [
        "grid.best_params_"
      ],
      "metadata": {
        "colab": {
          "base_uri": "https://localhost:8080/"
        },
        "id": "1qRcOTORUJEf",
        "outputId": "22507d3e-d3d1-45e5-c077-2663127c6a75"
      },
      "execution_count": 26,
      "outputs": [
        {
          "output_type": "execute_result",
          "data": {
            "text/plain": [
              "{'learning_rate': 0.03}"
            ]
          },
          "metadata": {},
          "execution_count": 26
        }
      ]
    },
    {
      "cell_type": "code",
      "source": [
        "grid.best_score_"
      ],
      "metadata": {
        "colab": {
          "base_uri": "https://localhost:8080/"
        },
        "id": "pwJjv9yzT5Zb",
        "outputId": "b4bc4242-47f7-42b8-bd2d-0b7d018dd289"
      },
      "execution_count": 27,
      "outputs": [
        {
          "output_type": "execute_result",
          "data": {
            "text/plain": [
              "0.9060909090909091"
            ]
          },
          "metadata": {},
          "execution_count": 27
        }
      ]
    },
    {
      "cell_type": "code",
      "source": [
        "grid.cv_results_ #CV 상세 이력"
      ],
      "metadata": {
        "colab": {
          "base_uri": "https://localhost:8080/"
        },
        "id": "wf958SrKUcSG",
        "outputId": "889286b5-0d1f-473f-9f2d-744ebdcd5d60"
      },
      "execution_count": 28,
      "outputs": [
        {
          "output_type": "execute_result",
          "data": {
            "text/plain": [
              "{'mean_fit_time': array([2.20319128, 2.09387574]),\n",
              " 'std_fit_time': array([0.22833804, 0.0218477 ]),\n",
              " 'mean_score_time': array([0.02207866, 0.02250333]),\n",
              " 'std_score_time': array([0.0021056 , 0.00281973]),\n",
              " 'param_learning_rate': masked_array(data=[0.01, 0.03],\n",
              "              mask=[False, False],\n",
              "        fill_value='?',\n",
              "             dtype=object),\n",
              " 'params': [{'learning_rate': 0.01}, {'learning_rate': 0.03}],\n",
              " 'split0_test_score': array([0.90348485, 0.90712121]),\n",
              " 'split1_test_score': array([0.9019697 , 0.90681818]),\n",
              " 'split2_test_score': array([0.90469697, 0.90621212]),\n",
              " 'split3_test_score': array([0.90121212, 0.90818182]),\n",
              " 'split4_test_score': array([0.8980303 , 0.90212121]),\n",
              " 'mean_test_score': array([0.90187879, 0.90609091]),\n",
              " 'std_test_score': array([0.00227091, 0.00208497]),\n",
              " 'rank_test_score': array([2, 1], dtype=int32)}"
            ]
          },
          "metadata": {},
          "execution_count": 28
        }
      ]
    },
    {
      "cell_type": "code",
      "source": [
        "best_model = grid.best_estimator_\n",
        "y_test_pred_best = best_model.predict(X_test)\n",
        "y_test_prob_best = best_model.predict_proba(X_test)\n",
        "print('Accuracy: %.4f' % metrics.accuracy_score(y_test, y_test_pred_best))\n",
        "print('AUC: %.4f' % metrics.roc_auc_score(y_test, y_test_prob_best[:, 1]))\n",
        "print(metrics.classification_report(y_test, y_test_pred_best))"
      ],
      "metadata": {
        "colab": {
          "base_uri": "https://localhost:8080/"
        },
        "id": "OK9_j1vwUVLb",
        "outputId": "c2cc57a7-bf69-42ec-b13b-a050489b0c4f"
      },
      "execution_count": 29,
      "outputs": [
        {
          "output_type": "stream",
          "name": "stdout",
          "text": [
            "Accuracy: 0.9070\n",
            "AUC: 0.8441\n",
            "              precision    recall  f1-score   support\n",
            "\n",
            "           0       0.91      0.99      0.95     12586\n",
            "           1       0.79      0.21      0.33      1558\n",
            "\n",
            "    accuracy                           0.91     14144\n",
            "   macro avg       0.85      0.60      0.64     14144\n",
            "weighted avg       0.90      0.91      0.88     14144\n",
            "\n"
          ]
        }
      ]
    },
    {
      "cell_type": "code",
      "source": [
        "best_model.feature_importances_"
      ],
      "metadata": {
        "colab": {
          "base_uri": "https://localhost:8080/"
        },
        "id": "HWgfOxXNWhVy",
        "outputId": "870d64d5-42da-4608-dec8-a52c690484f5"
      },
      "execution_count": 30,
      "outputs": [
        {
          "output_type": "execute_result",
          "data": {
            "text/plain": [
              "array([0.03438814, 0.1097669 , 0.06382191, 0.04431625, 0.05614719,\n",
              "       0.04464659, 0.12498568, 0.09823883, 0.06820551, 0.04445333,\n",
              "       0.04767288, 0.22430338, 0.03905343, 0.        ], dtype=float32)"
            ]
          },
          "metadata": {},
          "execution_count": 30
        }
      ]
    },
    {
      "cell_type": "code",
      "source": [
        "import numpy as np\n",
        "np.array(X_train.columns)"
      ],
      "metadata": {
        "colab": {
          "base_uri": "https://localhost:8080/"
        },
        "id": "81oOVsAxW8KA",
        "outputId": "3da67fc1-ab61-4063-952d-c58ea8cf5409"
      },
      "execution_count": 31,
      "outputs": [
        {
          "output_type": "execute_result",
          "data": {
            "text/plain": [
              "array(['temperature_f', 'resp_rate', 'mechanical_ventilation',\n",
              "       'oxygenthrapy', 'hr', 'sbp', 'shorkindex', 'shorkindex_age',\n",
              "       'spo2_last', 'spo2_mean', 'paco2', 'bun', 'cr_diff', 'gcs'],\n",
              "      dtype=object)"
            ]
          },
          "metadata": {},
          "execution_count": 31
        }
      ]
    },
    {
      "cell_type": "code",
      "source": [
        "pd.DataFrame(np.array(X_train.columns),np.array(best_model.feature_importances_))"
      ],
      "metadata": {
        "colab": {
          "base_uri": "https://localhost:8080/",
          "height": 488
        },
        "id": "AmdTvrvGWtKu",
        "outputId": "278d3d80-0138-457d-b044-314bb56bd39a"
      },
      "execution_count": 32,
      "outputs": [
        {
          "output_type": "execute_result",
          "data": {
            "text/plain": [
              "                               0\n",
              "0.034388           temperature_f\n",
              "0.109767               resp_rate\n",
              "0.063822  mechanical_ventilation\n",
              "0.044316            oxygenthrapy\n",
              "0.056147                      hr\n",
              "0.044647                     sbp\n",
              "0.124986              shorkindex\n",
              "0.098239          shorkindex_age\n",
              "0.068206               spo2_last\n",
              "0.044453               spo2_mean\n",
              "0.047673                   paco2\n",
              "0.224303                     bun\n",
              "0.039053                 cr_diff\n",
              "0.000000                     gcs"
            ],
            "text/html": [
              "\n",
              "  <div id=\"df-615963e2-3a32-4ae4-a719-05a3a4de277a\">\n",
              "    <div class=\"colab-df-container\">\n",
              "      <div>\n",
              "<style scoped>\n",
              "    .dataframe tbody tr th:only-of-type {\n",
              "        vertical-align: middle;\n",
              "    }\n",
              "\n",
              "    .dataframe tbody tr th {\n",
              "        vertical-align: top;\n",
              "    }\n",
              "\n",
              "    .dataframe thead th {\n",
              "        text-align: right;\n",
              "    }\n",
              "</style>\n",
              "<table border=\"1\" class=\"dataframe\">\n",
              "  <thead>\n",
              "    <tr style=\"text-align: right;\">\n",
              "      <th></th>\n",
              "      <th>0</th>\n",
              "    </tr>\n",
              "  </thead>\n",
              "  <tbody>\n",
              "    <tr>\n",
              "      <th>0.034388</th>\n",
              "      <td>temperature_f</td>\n",
              "    </tr>\n",
              "    <tr>\n",
              "      <th>0.109767</th>\n",
              "      <td>resp_rate</td>\n",
              "    </tr>\n",
              "    <tr>\n",
              "      <th>0.063822</th>\n",
              "      <td>mechanical_ventilation</td>\n",
              "    </tr>\n",
              "    <tr>\n",
              "      <th>0.044316</th>\n",
              "      <td>oxygenthrapy</td>\n",
              "    </tr>\n",
              "    <tr>\n",
              "      <th>0.056147</th>\n",
              "      <td>hr</td>\n",
              "    </tr>\n",
              "    <tr>\n",
              "      <th>0.044647</th>\n",
              "      <td>sbp</td>\n",
              "    </tr>\n",
              "    <tr>\n",
              "      <th>0.124986</th>\n",
              "      <td>shorkindex</td>\n",
              "    </tr>\n",
              "    <tr>\n",
              "      <th>0.098239</th>\n",
              "      <td>shorkindex_age</td>\n",
              "    </tr>\n",
              "    <tr>\n",
              "      <th>0.068206</th>\n",
              "      <td>spo2_last</td>\n",
              "    </tr>\n",
              "    <tr>\n",
              "      <th>0.044453</th>\n",
              "      <td>spo2_mean</td>\n",
              "    </tr>\n",
              "    <tr>\n",
              "      <th>0.047673</th>\n",
              "      <td>paco2</td>\n",
              "    </tr>\n",
              "    <tr>\n",
              "      <th>0.224303</th>\n",
              "      <td>bun</td>\n",
              "    </tr>\n",
              "    <tr>\n",
              "      <th>0.039053</th>\n",
              "      <td>cr_diff</td>\n",
              "    </tr>\n",
              "    <tr>\n",
              "      <th>0.000000</th>\n",
              "      <td>gcs</td>\n",
              "    </tr>\n",
              "  </tbody>\n",
              "</table>\n",
              "</div>\n",
              "      <button class=\"colab-df-convert\" onclick=\"convertToInteractive('df-615963e2-3a32-4ae4-a719-05a3a4de277a')\"\n",
              "              title=\"Convert this dataframe to an interactive table.\"\n",
              "              style=\"display:none;\">\n",
              "        \n",
              "  <svg xmlns=\"http://www.w3.org/2000/svg\" height=\"24px\"viewBox=\"0 0 24 24\"\n",
              "       width=\"24px\">\n",
              "    <path d=\"M0 0h24v24H0V0z\" fill=\"none\"/>\n",
              "    <path d=\"M18.56 5.44l.94 2.06.94-2.06 2.06-.94-2.06-.94-.94-2.06-.94 2.06-2.06.94zm-11 1L8.5 8.5l.94-2.06 2.06-.94-2.06-.94L8.5 2.5l-.94 2.06-2.06.94zm10 10l.94 2.06.94-2.06 2.06-.94-2.06-.94-.94-2.06-.94 2.06-2.06.94z\"/><path d=\"M17.41 7.96l-1.37-1.37c-.4-.4-.92-.59-1.43-.59-.52 0-1.04.2-1.43.59L10.3 9.45l-7.72 7.72c-.78.78-.78 2.05 0 2.83L4 21.41c.39.39.9.59 1.41.59.51 0 1.02-.2 1.41-.59l7.78-7.78 2.81-2.81c.8-.78.8-2.07 0-2.86zM5.41 20L4 18.59l7.72-7.72 1.47 1.35L5.41 20z\"/>\n",
              "  </svg>\n",
              "      </button>\n",
              "      \n",
              "  <style>\n",
              "    .colab-df-container {\n",
              "      display:flex;\n",
              "      flex-wrap:wrap;\n",
              "      gap: 12px;\n",
              "    }\n",
              "\n",
              "    .colab-df-convert {\n",
              "      background-color: #E8F0FE;\n",
              "      border: none;\n",
              "      border-radius: 50%;\n",
              "      cursor: pointer;\n",
              "      display: none;\n",
              "      fill: #1967D2;\n",
              "      height: 32px;\n",
              "      padding: 0 0 0 0;\n",
              "      width: 32px;\n",
              "    }\n",
              "\n",
              "    .colab-df-convert:hover {\n",
              "      background-color: #E2EBFA;\n",
              "      box-shadow: 0px 1px 2px rgba(60, 64, 67, 0.3), 0px 1px 3px 1px rgba(60, 64, 67, 0.15);\n",
              "      fill: #174EA6;\n",
              "    }\n",
              "\n",
              "    [theme=dark] .colab-df-convert {\n",
              "      background-color: #3B4455;\n",
              "      fill: #D2E3FC;\n",
              "    }\n",
              "\n",
              "    [theme=dark] .colab-df-convert:hover {\n",
              "      background-color: #434B5C;\n",
              "      box-shadow: 0px 1px 3px 1px rgba(0, 0, 0, 0.15);\n",
              "      filter: drop-shadow(0px 1px 2px rgba(0, 0, 0, 0.3));\n",
              "      fill: #FFFFFF;\n",
              "    }\n",
              "  </style>\n",
              "\n",
              "      <script>\n",
              "        const buttonEl =\n",
              "          document.querySelector('#df-615963e2-3a32-4ae4-a719-05a3a4de277a button.colab-df-convert');\n",
              "        buttonEl.style.display =\n",
              "          google.colab.kernel.accessAllowed ? 'block' : 'none';\n",
              "\n",
              "        async function convertToInteractive(key) {\n",
              "          const element = document.querySelector('#df-615963e2-3a32-4ae4-a719-05a3a4de277a');\n",
              "          const dataTable =\n",
              "            await google.colab.kernel.invokeFunction('convertToInteractive',\n",
              "                                                     [key], {});\n",
              "          if (!dataTable) return;\n",
              "\n",
              "          const docLinkHtml = 'Like what you see? Visit the ' +\n",
              "            '<a target=\"_blank\" href=https://colab.research.google.com/notebooks/data_table.ipynb>data table notebook</a>'\n",
              "            + ' to learn more about interactive tables.';\n",
              "          element.innerHTML = '';\n",
              "          dataTable['output_type'] = 'display_data';\n",
              "          await google.colab.output.renderOutput(dataTable, element);\n",
              "          const docLink = document.createElement('div');\n",
              "          docLink.innerHTML = docLinkHtml;\n",
              "          element.appendChild(docLink);\n",
              "        }\n",
              "      </script>\n",
              "    </div>\n",
              "  </div>\n",
              "  "
            ]
          },
          "metadata": {},
          "execution_count": 32
        }
      ]
    },
    {
      "cell_type": "code",
      "source": [
        "!pip install xgboost\n",
        "!pip install sklearn"
      ],
      "metadata": {
        "colab": {
          "base_uri": "https://localhost:8080/"
        },
        "id": "_Yr-yMxW6Nge",
        "outputId": "7d160a54-bd28-4c95-8a3b-d9bdc8f1b06b"
      },
      "execution_count": 35,
      "outputs": [
        {
          "output_type": "stream",
          "name": "stdout",
          "text": [
            "Looking in indexes: https://pypi.org/simple, https://us-python.pkg.dev/colab-wheels/public/simple/\n",
            "Requirement already satisfied: xgboost in /usr/local/lib/python3.8/dist-packages (0.90)\n",
            "Requirement already satisfied: numpy in /usr/local/lib/python3.8/dist-packages (from xgboost) (1.21.6)\n",
            "Requirement already satisfied: scipy in /usr/local/lib/python3.8/dist-packages (from xgboost) (1.7.3)\n",
            "Looking in indexes: https://pypi.org/simple, https://us-python.pkg.dev/colab-wheels/public/simple/\n",
            "Collecting sklearn\n",
            "  Downloading sklearn-0.0.post1.tar.gz (3.6 kB)\n",
            "Building wheels for collected packages: sklearn\n",
            "  Building wheel for sklearn (setup.py) ... \u001b[?25l\u001b[?25hdone\n",
            "  Created wheel for sklearn: filename=sklearn-0.0.post1-py3-none-any.whl size=2344 sha256=b1b161622149c965af211a414f8ed9069468b6fcb6f23b41f3a354ebc6b6555f\n",
            "  Stored in directory: /root/.cache/pip/wheels/14/25/f7/1cc0956978ae479e75140219088deb7a36f60459df242b1a72\n",
            "Successfully built sklearn\n",
            "Installing collected packages: sklearn\n",
            "Successfully installed sklearn-0.0.post1\n"
          ]
        }
      ]
    },
    {
      "cell_type": "code",
      "metadata": {
        "id": "mJeabTSVZkpp"
      },
      "source": [
        "# Generating cross-validation index\n",
        "cv_idx = StratifiedKFold(n_splits=5, shuffle=True, random_state=1234)"
      ],
      "execution_count": 39,
      "outputs": []
    },
    {
      "cell_type": "code",
      "metadata": {
        "id": "N-vxAhgjZqEi",
        "colab": {
          "base_uri": "https://localhost:8080/",
          "height": 303
        },
        "outputId": "2c42ccc7-4b78-4423-992c-d8809be999d0"
      },
      "source": [
        "result = fitting_cv(model=model, param=param, kfold=cv_idx, train_input=X_train, train_target=y_train, n_jobs=-1)"
      ],
      "execution_count": 40,
      "outputs": [
        {
          "output_type": "error",
          "ename": "TypeError",
          "evalue": "ignored",
          "traceback": [
            "\u001b[0;31m---------------------------------------------------------------------------\u001b[0m",
            "\u001b[0;31mTypeError\u001b[0m                                 Traceback (most recent call last)",
            "\u001b[0;32m<ipython-input-40-0ea8af9fea2c>\u001b[0m in \u001b[0;36m<module>\u001b[0;34m\u001b[0m\n\u001b[0;32m----> 1\u001b[0;31m \u001b[0mresult\u001b[0m \u001b[0;34m=\u001b[0m \u001b[0mfitting_cv\u001b[0m\u001b[0;34m(\u001b[0m\u001b[0mmodel\u001b[0m\u001b[0;34m=\u001b[0m\u001b[0mmodel\u001b[0m\u001b[0;34m,\u001b[0m \u001b[0mparam\u001b[0m\u001b[0;34m=\u001b[0m\u001b[0mparam\u001b[0m\u001b[0;34m,\u001b[0m \u001b[0mkfold\u001b[0m\u001b[0;34m=\u001b[0m\u001b[0mcv_idx\u001b[0m\u001b[0;34m,\u001b[0m \u001b[0mtrain_input\u001b[0m\u001b[0;34m=\u001b[0m\u001b[0mX_train\u001b[0m\u001b[0;34m,\u001b[0m \u001b[0mtrain_target\u001b[0m\u001b[0;34m=\u001b[0m\u001b[0my_train\u001b[0m\u001b[0;34m,\u001b[0m \u001b[0mn_jobs\u001b[0m\u001b[0;34m=\u001b[0m\u001b[0;34m-\u001b[0m\u001b[0;36m1\u001b[0m\u001b[0;34m)\u001b[0m\u001b[0;34m\u001b[0m\u001b[0;34m\u001b[0m\u001b[0m\n\u001b[0m",
            "\u001b[0;32m<ipython-input-20-b90144f79ba5>\u001b[0m in \u001b[0;36mfitting_cv\u001b[0;34m(model, param, kfold, train_input, train_target, scoring, n_jobs, tracking)\u001b[0m\n\u001b[1;32m     10\u001b[0m     '''\n\u001b[1;32m     11\u001b[0m \u001b[0;34m\u001b[0m\u001b[0m\n\u001b[0;32m---> 12\u001b[0;31m     \u001b[0mname\u001b[0m \u001b[0;34m=\u001b[0m \u001b[0mmodel\u001b[0m\u001b[0;34m[\u001b[0m\u001b[0;36m0\u001b[0m\u001b[0;34m]\u001b[0m\u001b[0;34m\u001b[0m\u001b[0;34m\u001b[0m\u001b[0m\n\u001b[0m\u001b[1;32m     13\u001b[0m     \u001b[0mestimator\u001b[0m \u001b[0;34m=\u001b[0m \u001b[0mmodel\u001b[0m\u001b[0;34m[\u001b[0m\u001b[0;36m1\u001b[0m\u001b[0;34m]\u001b[0m\u001b[0;34m\u001b[0m\u001b[0;34m\u001b[0m\u001b[0m\n\u001b[1;32m     14\u001b[0m     \u001b[0;32mif\u001b[0m \u001b[0mtracking\u001b[0m\u001b[0;34m:\u001b[0m\u001b[0;34m\u001b[0m\u001b[0;34m\u001b[0m\u001b[0m\n",
            "\u001b[0;31mTypeError\u001b[0m: 'XGBClassifier' object is not subscriptable"
          ]
        }
      ]
    },
    {
      "cell_type": "code",
      "source": [
        "# http://aispiration.com/model/model-python-xgboost-hyper.html"
      ],
      "metadata": {
        "id": "nCsHvuNN7DTw"
      },
      "execution_count": null,
      "outputs": []
    },
    {
      "cell_type": "code",
      "metadata": {
        "id": "Rzr-iYvoZuoo"
      },
      "source": [
        "print(result.best_score_)"
      ],
      "execution_count": null,
      "outputs": []
    },
    {
      "cell_type": "code",
      "metadata": {
        "id": "GEv6v99odfeH"
      },
      "source": [
        "print(result.best_params_)"
      ],
      "execution_count": null,
      "outputs": []
    },
    {
      "cell_type": "code",
      "metadata": {
        "id": "1wxx9dU7dm2b"
      },
      "source": [
        "tuned_xgb = result.best_estimator_\n",
        "print(tuned_xgb)"
      ],
      "execution_count": null,
      "outputs": []
    },
    {
      "cell_type": "code",
      "metadata": {
        "id": "w9AgH6qmdtbi"
      },
      "source": [
        "y_train_pred = tuned_xgb.predict(X_train)\n",
        "y_train_prob = tuned_xgb.predict_proba(X_train)\n",
        "\n",
        "y_test_pred  = tuned_xgb.predict(X_test)\n",
        "y_test_prob = tuned_xgb.predict_proba(X_test)"
      ],
      "execution_count": null,
      "outputs": []
    },
    {
      "cell_type": "code",
      "metadata": {
        "id": "xH2QnxlhdxP3"
      },
      "source": [
        "print('Accuracy: %.4f' % metrics.accuracy_score(y_train, y_train_pred))\n",
        "print('AUC: %.4f' % metrics.roc_auc_score(y_train, y_train_prob[:, 1]))\n",
        "print(metrics.classification_report(y_train, y_train_pred))"
      ],
      "execution_count": null,
      "outputs": []
    },
    {
      "cell_type": "code",
      "metadata": {
        "id": "IB0091OCdzRo"
      },
      "source": [
        "print('Accuracy: %.4f' % metrics.accuracy_score(y_test, y_test_pred))\n",
        "print('AUC: %.4f' % metrics.roc_auc_score(y_test, y_test_prob[:, 1]))\n",
        "print(metrics.classification_report(y_test, y_test_pred))"
      ],
      "execution_count": null,
      "outputs": []
    },
    {
      "cell_type": "markdown",
      "metadata": {
        "id": "C-2EgBVmnvbB"
      },
      "source": [
        "# Compare other models\n",
        "- Logistic Regression\n",
        "- Random Forest\n",
        "- Feed-forward Network\n",
        "- Support Vector Machine\n",
        "- XGBoost"
      ]
    },
    {
      "cell_type": "code",
      "metadata": {
        "id": "ySLXKZyynsFj"
      },
      "source": [
        "models = []\n",
        "params = []"
      ],
      "execution_count": 41,
      "outputs": []
    },
    {
      "cell_type": "code",
      "metadata": {
        "id": "r6yV9ucYoASr"
      },
      "source": [
        "model = ('LR', LogisticRegression(solver='liblinear', multi_class='auto', random_state=2072))\n",
        "param = {\n",
        "    'C': [0.01, 0.1, 1.0, 5.0, 10.0, 100.0],\n",
        "    'class_weight': [None, 'balanced']\n",
        "}\n",
        "\n",
        "models.append(model)\n",
        "params.append(param)"
      ],
      "execution_count": 42,
      "outputs": []
    },
    {
      "cell_type": "code",
      "metadata": {
        "id": "_Tt6f4XnoBkQ"
      },
      "source": [
        "model = ('RF', RandomForestClassifier(random_state=2072))\n",
        "param = {\n",
        "    'n_estimators': [20, 30, 40, 50, 60, 100],\n",
        "    'max_features': [3, 4, 5, 6, 7],\n",
        "    'class_weight': [None, 'balanced']\n",
        "}\n",
        "\n",
        "models.append(model)\n",
        "params.append(param)"
      ],
      "execution_count": 43,
      "outputs": []
    },
    {
      "cell_type": "code",
      "metadata": {
        "id": "aQqs9yI_oCo9"
      },
      "source": [
        "model = ('MLP', MLPClassifier(random_state=2072, max_iter=2000, batch_size=32))\n",
        "param = {\n",
        "    'hidden_layer_sizes': [(10, ), (15, ), (10, 10)],\n",
        "    'alpha': [0.001, 0.05],\n",
        "    'learning_rate_init': [0.005, 0.01]\n",
        "}\n",
        "\n",
        "models.append(model)\n",
        "params.append(param)"
      ],
      "execution_count": 44,
      "outputs": []
    },
    {
      "cell_type": "code",
      "metadata": {
        "id": "prnCYP36oFKJ"
      },
      "source": [
        "model = ('SVC', SVC(random_state=2072))\n",
        "param = [\n",
        "    {'kernel': ['linear'], 'C': [0.01, 0.1, 1, 10, 100, 100]},\n",
        "    {'kernel': ['rbf'], 'C': [0.01, 0.1, 1, 10, 100, 100], 'gamma': [0.01, 0.05, 0.1, 0.5, 1.0]},\n",
        "    {'kernel': ['poly'], 'C': [0.01, 0.1, 1, 10, 100, 100], 'degree': [2, 3]}\n",
        "]\n",
        "\n",
        "models.append(model)\n",
        "params.append(param)"
      ],
      "execution_count": 45,
      "outputs": []
    },
    {
      "cell_type": "code",
      "metadata": {
        "id": "JjBT-xAhoI1U"
      },
      "source": [
        "model = ('XGB', XGBClassifier(random_state=2072))\n",
        "param = {\n",
        "    'learning_rate': [0.01, 0.03, 0.05],\n",
        "    'max_depth': [2, 3, 4],\n",
        "    'n_estimators': [100, 200, 300],\n",
        "    'subsample': [0.8, 1],\n",
        "    'colsample_bytree': [0.8, 1]\n",
        "}\n",
        "\n",
        "models.append(model)\n",
        "params.append(param)"
      ],
      "execution_count": 46,
      "outputs": []
    },
    {
      "cell_type": "code",
      "metadata": {
        "id": "fS4QUo7LoK7v"
      },
      "source": [
        "# Generating cross-validation index\n",
        "cv_idx = StratifiedKFold(n_splits=10, shuffle=True, random_state=2072)"
      ],
      "execution_count": 47,
      "outputs": []
    },
    {
      "cell_type": "code",
      "metadata": {
        "id": "rIBoonaloRuf",
        "colab": {
          "base_uri": "https://localhost:8080/",
          "height": 455
        },
        "outputId": "26fe6777-c6de-4302-c3f7-eb81b4156756"
      },
      "source": [
        "results = []\n",
        "for model, param in zip(models, params):\n",
        "    result = fitting_cv(model=model, param=param, kfold=cv_idx, train_input=X_train, train_target=y_train, n_jobs=-1)\n",
        "    results.append(result)"
      ],
      "execution_count": 48,
      "outputs": [
        {
          "output_type": "stream",
          "name": "stdout",
          "text": [
            "[2022-12-20 09:42:51.516407] Start parameter search for model 'LR'\n",
            "[2022-12-20 09:44:15.814042] Finish parameter search for model 'LR' (time: 84 seconds)\n",
            "\n",
            "[2022-12-20 09:44:15.814239] Start parameter search for model 'RF'\n"
          ]
        },
        {
          "output_type": "error",
          "ename": "KeyboardInterrupt",
          "evalue": "ignored",
          "traceback": [
            "\u001b[0;31m---------------------------------------------------------------------------\u001b[0m",
            "\u001b[0;31mKeyboardInterrupt\u001b[0m                         Traceback (most recent call last)",
            "\u001b[0;32m<ipython-input-48-b7264cb2c779>\u001b[0m in \u001b[0;36m<module>\u001b[0;34m\u001b[0m\n\u001b[1;32m      1\u001b[0m \u001b[0mresults\u001b[0m \u001b[0;34m=\u001b[0m \u001b[0;34m[\u001b[0m\u001b[0;34m]\u001b[0m\u001b[0;34m\u001b[0m\u001b[0;34m\u001b[0m\u001b[0m\n\u001b[1;32m      2\u001b[0m \u001b[0;32mfor\u001b[0m \u001b[0mmodel\u001b[0m\u001b[0;34m,\u001b[0m \u001b[0mparam\u001b[0m \u001b[0;32min\u001b[0m \u001b[0mzip\u001b[0m\u001b[0;34m(\u001b[0m\u001b[0mmodels\u001b[0m\u001b[0;34m,\u001b[0m \u001b[0mparams\u001b[0m\u001b[0;34m)\u001b[0m\u001b[0;34m:\u001b[0m\u001b[0;34m\u001b[0m\u001b[0;34m\u001b[0m\u001b[0m\n\u001b[0;32m----> 3\u001b[0;31m     \u001b[0mresult\u001b[0m \u001b[0;34m=\u001b[0m \u001b[0mfitting_cv\u001b[0m\u001b[0;34m(\u001b[0m\u001b[0mmodel\u001b[0m\u001b[0;34m=\u001b[0m\u001b[0mmodel\u001b[0m\u001b[0;34m,\u001b[0m \u001b[0mparam\u001b[0m\u001b[0;34m=\u001b[0m\u001b[0mparam\u001b[0m\u001b[0;34m,\u001b[0m \u001b[0mkfold\u001b[0m\u001b[0;34m=\u001b[0m\u001b[0mcv_idx\u001b[0m\u001b[0;34m,\u001b[0m \u001b[0mtrain_input\u001b[0m\u001b[0;34m=\u001b[0m\u001b[0mX_train\u001b[0m\u001b[0;34m,\u001b[0m \u001b[0mtrain_target\u001b[0m\u001b[0;34m=\u001b[0m\u001b[0my_train\u001b[0m\u001b[0;34m,\u001b[0m \u001b[0mn_jobs\u001b[0m\u001b[0;34m=\u001b[0m\u001b[0;34m-\u001b[0m\u001b[0;36m1\u001b[0m\u001b[0;34m)\u001b[0m\u001b[0;34m\u001b[0m\u001b[0;34m\u001b[0m\u001b[0m\n\u001b[0m\u001b[1;32m      4\u001b[0m     \u001b[0mresults\u001b[0m\u001b[0;34m.\u001b[0m\u001b[0mappend\u001b[0m\u001b[0;34m(\u001b[0m\u001b[0mresult\u001b[0m\u001b[0;34m)\u001b[0m\u001b[0;34m\u001b[0m\u001b[0;34m\u001b[0m\u001b[0m\n",
            "\u001b[0;32m<ipython-input-20-b90144f79ba5>\u001b[0m in \u001b[0;36mfitting_cv\u001b[0;34m(model, param, kfold, train_input, train_target, scoring, n_jobs, tracking)\u001b[0m\n\u001b[1;32m     16\u001b[0m         \u001b[0mprint\u001b[0m\u001b[0;34m(\u001b[0m\u001b[0;34m\"[%s] Start parameter search for model '%s'\"\u001b[0m \u001b[0;34m%\u001b[0m \u001b[0;34m(\u001b[0m\u001b[0mstart_time\u001b[0m\u001b[0;34m,\u001b[0m \u001b[0mname\u001b[0m\u001b[0;34m)\u001b[0m\u001b[0;34m)\u001b[0m\u001b[0;34m\u001b[0m\u001b[0;34m\u001b[0m\u001b[0m\n\u001b[1;32m     17\u001b[0m         \u001b[0mgridsearch\u001b[0m \u001b[0;34m=\u001b[0m \u001b[0mGridSearchCV\u001b[0m\u001b[0;34m(\u001b[0m\u001b[0mestimator\u001b[0m\u001b[0;34m=\u001b[0m\u001b[0mestimator\u001b[0m\u001b[0;34m,\u001b[0m \u001b[0mparam_grid\u001b[0m\u001b[0;34m=\u001b[0m\u001b[0mparam\u001b[0m\u001b[0;34m,\u001b[0m \u001b[0mcv\u001b[0m\u001b[0;34m=\u001b[0m\u001b[0mcv_idx\u001b[0m\u001b[0;34m,\u001b[0m \u001b[0mscoring\u001b[0m\u001b[0;34m=\u001b[0m\u001b[0mscoring\u001b[0m\u001b[0;34m,\u001b[0m \u001b[0mn_jobs\u001b[0m\u001b[0;34m=\u001b[0m\u001b[0mn_jobs\u001b[0m\u001b[0;34m)\u001b[0m\u001b[0;34m\u001b[0m\u001b[0;34m\u001b[0m\u001b[0m\n\u001b[0;32m---> 18\u001b[0;31m         \u001b[0mgridsearch\u001b[0m\u001b[0;34m.\u001b[0m\u001b[0mfit\u001b[0m\u001b[0;34m(\u001b[0m\u001b[0mtrain_input\u001b[0m\u001b[0;34m,\u001b[0m \u001b[0mtrain_target\u001b[0m\u001b[0;34m)\u001b[0m\u001b[0;34m\u001b[0m\u001b[0;34m\u001b[0m\u001b[0m\n\u001b[0m\u001b[1;32m     19\u001b[0m         \u001b[0mend_time\u001b[0m \u001b[0;34m=\u001b[0m \u001b[0mdatetime\u001b[0m\u001b[0;34m.\u001b[0m\u001b[0mnow\u001b[0m\u001b[0;34m(\u001b[0m\u001b[0;34m)\u001b[0m\u001b[0;34m\u001b[0m\u001b[0;34m\u001b[0m\u001b[0m\n\u001b[1;32m     20\u001b[0m         \u001b[0mduration_time\u001b[0m \u001b[0;34m=\u001b[0m \u001b[0;34m(\u001b[0m\u001b[0mend_time\u001b[0m \u001b[0;34m-\u001b[0m \u001b[0mstart_time\u001b[0m\u001b[0;34m)\u001b[0m\u001b[0;34m.\u001b[0m\u001b[0mseconds\u001b[0m\u001b[0;34m\u001b[0m\u001b[0;34m\u001b[0m\u001b[0m\n",
            "\u001b[0;32m/usr/local/lib/python3.8/dist-packages/sklearn/model_selection/_search.py\u001b[0m in \u001b[0;36mfit\u001b[0;34m(self, X, y, groups, **fit_params)\u001b[0m\n\u001b[1;32m    889\u001b[0m                 \u001b[0;32mreturn\u001b[0m \u001b[0mresults\u001b[0m\u001b[0;34m\u001b[0m\u001b[0;34m\u001b[0m\u001b[0m\n\u001b[1;32m    890\u001b[0m \u001b[0;34m\u001b[0m\u001b[0m\n\u001b[0;32m--> 891\u001b[0;31m             \u001b[0mself\u001b[0m\u001b[0;34m.\u001b[0m\u001b[0m_run_search\u001b[0m\u001b[0;34m(\u001b[0m\u001b[0mevaluate_candidates\u001b[0m\u001b[0;34m)\u001b[0m\u001b[0;34m\u001b[0m\u001b[0;34m\u001b[0m\u001b[0m\n\u001b[0m\u001b[1;32m    892\u001b[0m \u001b[0;34m\u001b[0m\u001b[0m\n\u001b[1;32m    893\u001b[0m             \u001b[0;31m# multimetric is determined here because in the case of a callable\u001b[0m\u001b[0;34m\u001b[0m\u001b[0;34m\u001b[0m\u001b[0;34m\u001b[0m\u001b[0m\n",
            "\u001b[0;32m/usr/local/lib/python3.8/dist-packages/sklearn/model_selection/_search.py\u001b[0m in \u001b[0;36m_run_search\u001b[0;34m(self, evaluate_candidates)\u001b[0m\n\u001b[1;32m   1390\u001b[0m     \u001b[0;32mdef\u001b[0m \u001b[0m_run_search\u001b[0m\u001b[0;34m(\u001b[0m\u001b[0mself\u001b[0m\u001b[0;34m,\u001b[0m \u001b[0mevaluate_candidates\u001b[0m\u001b[0;34m)\u001b[0m\u001b[0;34m:\u001b[0m\u001b[0;34m\u001b[0m\u001b[0;34m\u001b[0m\u001b[0m\n\u001b[1;32m   1391\u001b[0m         \u001b[0;34m\"\"\"Search all candidates in param_grid\"\"\"\u001b[0m\u001b[0;34m\u001b[0m\u001b[0;34m\u001b[0m\u001b[0m\n\u001b[0;32m-> 1392\u001b[0;31m         \u001b[0mevaluate_candidates\u001b[0m\u001b[0;34m(\u001b[0m\u001b[0mParameterGrid\u001b[0m\u001b[0;34m(\u001b[0m\u001b[0mself\u001b[0m\u001b[0;34m.\u001b[0m\u001b[0mparam_grid\u001b[0m\u001b[0;34m)\u001b[0m\u001b[0;34m)\u001b[0m\u001b[0;34m\u001b[0m\u001b[0;34m\u001b[0m\u001b[0m\n\u001b[0m\u001b[1;32m   1393\u001b[0m \u001b[0;34m\u001b[0m\u001b[0m\n\u001b[1;32m   1394\u001b[0m \u001b[0;34m\u001b[0m\u001b[0m\n",
            "\u001b[0;32m/usr/local/lib/python3.8/dist-packages/sklearn/model_selection/_search.py\u001b[0m in \u001b[0;36mevaluate_candidates\u001b[0;34m(candidate_params, cv, more_results)\u001b[0m\n\u001b[1;32m    836\u001b[0m                     )\n\u001b[1;32m    837\u001b[0m \u001b[0;34m\u001b[0m\u001b[0m\n\u001b[0;32m--> 838\u001b[0;31m                 out = parallel(\n\u001b[0m\u001b[1;32m    839\u001b[0m                     delayed(_fit_and_score)(\n\u001b[1;32m    840\u001b[0m                         \u001b[0mclone\u001b[0m\u001b[0;34m(\u001b[0m\u001b[0mbase_estimator\u001b[0m\u001b[0;34m)\u001b[0m\u001b[0;34m,\u001b[0m\u001b[0;34m\u001b[0m\u001b[0;34m\u001b[0m\u001b[0m\n",
            "\u001b[0;32m/usr/local/lib/python3.8/dist-packages/joblib/parallel.py\u001b[0m in \u001b[0;36m__call__\u001b[0;34m(self, iterable)\u001b[0m\n\u001b[1;32m   1096\u001b[0m \u001b[0;34m\u001b[0m\u001b[0m\n\u001b[1;32m   1097\u001b[0m             \u001b[0;32mwith\u001b[0m \u001b[0mself\u001b[0m\u001b[0;34m.\u001b[0m\u001b[0m_backend\u001b[0m\u001b[0;34m.\u001b[0m\u001b[0mretrieval_context\u001b[0m\u001b[0;34m(\u001b[0m\u001b[0;34m)\u001b[0m\u001b[0;34m:\u001b[0m\u001b[0;34m\u001b[0m\u001b[0;34m\u001b[0m\u001b[0m\n\u001b[0;32m-> 1098\u001b[0;31m                 \u001b[0mself\u001b[0m\u001b[0;34m.\u001b[0m\u001b[0mretrieve\u001b[0m\u001b[0;34m(\u001b[0m\u001b[0;34m)\u001b[0m\u001b[0;34m\u001b[0m\u001b[0;34m\u001b[0m\u001b[0m\n\u001b[0m\u001b[1;32m   1099\u001b[0m             \u001b[0;31m# Make sure that we get a last message telling us we are done\u001b[0m\u001b[0;34m\u001b[0m\u001b[0;34m\u001b[0m\u001b[0;34m\u001b[0m\u001b[0m\n\u001b[1;32m   1100\u001b[0m             \u001b[0melapsed_time\u001b[0m \u001b[0;34m=\u001b[0m \u001b[0mtime\u001b[0m\u001b[0;34m.\u001b[0m\u001b[0mtime\u001b[0m\u001b[0;34m(\u001b[0m\u001b[0;34m)\u001b[0m \u001b[0;34m-\u001b[0m \u001b[0mself\u001b[0m\u001b[0;34m.\u001b[0m\u001b[0m_start_time\u001b[0m\u001b[0;34m\u001b[0m\u001b[0;34m\u001b[0m\u001b[0m\n",
            "\u001b[0;32m/usr/local/lib/python3.8/dist-packages/joblib/parallel.py\u001b[0m in \u001b[0;36mretrieve\u001b[0;34m(self)\u001b[0m\n\u001b[1;32m    973\u001b[0m             \u001b[0;32mtry\u001b[0m\u001b[0;34m:\u001b[0m\u001b[0;34m\u001b[0m\u001b[0;34m\u001b[0m\u001b[0m\n\u001b[1;32m    974\u001b[0m                 \u001b[0;32mif\u001b[0m \u001b[0mgetattr\u001b[0m\u001b[0;34m(\u001b[0m\u001b[0mself\u001b[0m\u001b[0;34m.\u001b[0m\u001b[0m_backend\u001b[0m\u001b[0;34m,\u001b[0m \u001b[0;34m'supports_timeout'\u001b[0m\u001b[0;34m,\u001b[0m \u001b[0;32mFalse\u001b[0m\u001b[0;34m)\u001b[0m\u001b[0;34m:\u001b[0m\u001b[0;34m\u001b[0m\u001b[0;34m\u001b[0m\u001b[0m\n\u001b[0;32m--> 975\u001b[0;31m                     \u001b[0mself\u001b[0m\u001b[0;34m.\u001b[0m\u001b[0m_output\u001b[0m\u001b[0;34m.\u001b[0m\u001b[0mextend\u001b[0m\u001b[0;34m(\u001b[0m\u001b[0mjob\u001b[0m\u001b[0;34m.\u001b[0m\u001b[0mget\u001b[0m\u001b[0;34m(\u001b[0m\u001b[0mtimeout\u001b[0m\u001b[0;34m=\u001b[0m\u001b[0mself\u001b[0m\u001b[0;34m.\u001b[0m\u001b[0mtimeout\u001b[0m\u001b[0;34m)\u001b[0m\u001b[0;34m)\u001b[0m\u001b[0;34m\u001b[0m\u001b[0;34m\u001b[0m\u001b[0m\n\u001b[0m\u001b[1;32m    976\u001b[0m                 \u001b[0;32melse\u001b[0m\u001b[0;34m:\u001b[0m\u001b[0;34m\u001b[0m\u001b[0;34m\u001b[0m\u001b[0m\n\u001b[1;32m    977\u001b[0m                     \u001b[0mself\u001b[0m\u001b[0;34m.\u001b[0m\u001b[0m_output\u001b[0m\u001b[0;34m.\u001b[0m\u001b[0mextend\u001b[0m\u001b[0;34m(\u001b[0m\u001b[0mjob\u001b[0m\u001b[0;34m.\u001b[0m\u001b[0mget\u001b[0m\u001b[0;34m(\u001b[0m\u001b[0;34m)\u001b[0m\u001b[0;34m)\u001b[0m\u001b[0;34m\u001b[0m\u001b[0;34m\u001b[0m\u001b[0m\n",
            "\u001b[0;32m/usr/local/lib/python3.8/dist-packages/joblib/_parallel_backends.py\u001b[0m in \u001b[0;36mwrap_future_result\u001b[0;34m(future, timeout)\u001b[0m\n\u001b[1;32m    565\u001b[0m         AsyncResults.get from multiprocessing.\"\"\"\n\u001b[1;32m    566\u001b[0m         \u001b[0;32mtry\u001b[0m\u001b[0;34m:\u001b[0m\u001b[0;34m\u001b[0m\u001b[0;34m\u001b[0m\u001b[0m\n\u001b[0;32m--> 567\u001b[0;31m             \u001b[0;32mreturn\u001b[0m \u001b[0mfuture\u001b[0m\u001b[0;34m.\u001b[0m\u001b[0mresult\u001b[0m\u001b[0;34m(\u001b[0m\u001b[0mtimeout\u001b[0m\u001b[0;34m=\u001b[0m\u001b[0mtimeout\u001b[0m\u001b[0;34m)\u001b[0m\u001b[0;34m\u001b[0m\u001b[0;34m\u001b[0m\u001b[0m\n\u001b[0m\u001b[1;32m    568\u001b[0m         \u001b[0;32mexcept\u001b[0m \u001b[0mCfTimeoutError\u001b[0m \u001b[0;32mas\u001b[0m \u001b[0me\u001b[0m\u001b[0;34m:\u001b[0m\u001b[0;34m\u001b[0m\u001b[0;34m\u001b[0m\u001b[0m\n\u001b[1;32m    569\u001b[0m             \u001b[0;32mraise\u001b[0m \u001b[0mTimeoutError\u001b[0m \u001b[0;32mfrom\u001b[0m \u001b[0me\u001b[0m\u001b[0;34m\u001b[0m\u001b[0;34m\u001b[0m\u001b[0m\n",
            "\u001b[0;32m/usr/lib/python3.8/concurrent/futures/_base.py\u001b[0m in \u001b[0;36mresult\u001b[0;34m(self, timeout)\u001b[0m\n\u001b[1;32m    437\u001b[0m                     \u001b[0;32mreturn\u001b[0m \u001b[0mself\u001b[0m\u001b[0;34m.\u001b[0m\u001b[0m__get_result\u001b[0m\u001b[0;34m(\u001b[0m\u001b[0;34m)\u001b[0m\u001b[0;34m\u001b[0m\u001b[0;34m\u001b[0m\u001b[0m\n\u001b[1;32m    438\u001b[0m \u001b[0;34m\u001b[0m\u001b[0m\n\u001b[0;32m--> 439\u001b[0;31m                 \u001b[0mself\u001b[0m\u001b[0;34m.\u001b[0m\u001b[0m_condition\u001b[0m\u001b[0;34m.\u001b[0m\u001b[0mwait\u001b[0m\u001b[0;34m(\u001b[0m\u001b[0mtimeout\u001b[0m\u001b[0;34m)\u001b[0m\u001b[0;34m\u001b[0m\u001b[0;34m\u001b[0m\u001b[0m\n\u001b[0m\u001b[1;32m    440\u001b[0m \u001b[0;34m\u001b[0m\u001b[0m\n\u001b[1;32m    441\u001b[0m                 \u001b[0;32mif\u001b[0m \u001b[0mself\u001b[0m\u001b[0;34m.\u001b[0m\u001b[0m_state\u001b[0m \u001b[0;32min\u001b[0m \u001b[0;34m[\u001b[0m\u001b[0mCANCELLED\u001b[0m\u001b[0;34m,\u001b[0m \u001b[0mCANCELLED_AND_NOTIFIED\u001b[0m\u001b[0;34m]\u001b[0m\u001b[0;34m:\u001b[0m\u001b[0;34m\u001b[0m\u001b[0;34m\u001b[0m\u001b[0m\n",
            "\u001b[0;32m/usr/lib/python3.8/threading.py\u001b[0m in \u001b[0;36mwait\u001b[0;34m(self, timeout)\u001b[0m\n\u001b[1;32m    300\u001b[0m         \u001b[0;32mtry\u001b[0m\u001b[0;34m:\u001b[0m    \u001b[0;31m# restore state no matter what (e.g., KeyboardInterrupt)\u001b[0m\u001b[0;34m\u001b[0m\u001b[0;34m\u001b[0m\u001b[0m\n\u001b[1;32m    301\u001b[0m             \u001b[0;32mif\u001b[0m \u001b[0mtimeout\u001b[0m \u001b[0;32mis\u001b[0m \u001b[0;32mNone\u001b[0m\u001b[0;34m:\u001b[0m\u001b[0;34m\u001b[0m\u001b[0;34m\u001b[0m\u001b[0m\n\u001b[0;32m--> 302\u001b[0;31m                 \u001b[0mwaiter\u001b[0m\u001b[0;34m.\u001b[0m\u001b[0macquire\u001b[0m\u001b[0;34m(\u001b[0m\u001b[0;34m)\u001b[0m\u001b[0;34m\u001b[0m\u001b[0;34m\u001b[0m\u001b[0m\n\u001b[0m\u001b[1;32m    303\u001b[0m                 \u001b[0mgotit\u001b[0m \u001b[0;34m=\u001b[0m \u001b[0;32mTrue\u001b[0m\u001b[0;34m\u001b[0m\u001b[0;34m\u001b[0m\u001b[0m\n\u001b[1;32m    304\u001b[0m             \u001b[0;32melse\u001b[0m\u001b[0;34m:\u001b[0m\u001b[0;34m\u001b[0m\u001b[0;34m\u001b[0m\u001b[0m\n",
            "\u001b[0;31mKeyboardInterrupt\u001b[0m: "
          ]
        }
      ]
    }
  ]
}